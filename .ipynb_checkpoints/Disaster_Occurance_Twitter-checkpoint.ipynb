{
 "cells": [
  {
   "cell_type": "markdown",
   "metadata": {
    "colab_type": "text",
    "id": "LvEEt0bsbnVw"
   },
   "source": [
    "# Introduction"
   ]
  },
  {
   "cell_type": "markdown",
   "metadata": {
    "colab_type": "text",
    "id": "93rJKGNCbqrI"
   },
   "source": [
    "**Predicting Disasters by Analyzing Keywords in Texts on Social Media**\n",
    "\n",
    "\n",
    "Twitter has become an important communication channel in times of emergency.\n",
    "\n",
    "The ubiquity of smartphones allows people to announce an emergency that they are observing in real time. For this reason, more agencies are interested in programmatically monitoring Twitter (that is, disaster relief organizations and news agencies).\n",
    "\n",
    "But it is not always clear whether a person's words are really announcing a disaster.\n",
    "\n",
    "This project contains a complete pipeline for the Natural Language Processing task of text classification. Specifically, it tries to classify whether a tweet describes a real or fake disaster.\n",
    "\n",
    "The pipeline consists of:\n",
    "\n",
    "* Cleaning and Pre-Processing\n",
    "* Attribute Engineering\n",
    "* Pre-Trained Word Embeddings Template\n",
    "* Deep Learning Model - BiLSTM Recurrent Neural Network"
   ]
  },
  {
   "cell_type": "markdown",
   "metadata": {
    "colab_type": "text",
    "id": "m2RGG0hdcYGA"
   },
   "source": [
    "**Problem Definition**\n",
    "\n",
    "This project will be predicting whether a particular tweet is about a real disaster or not. If it is a disaster, the forecast must be 1. Otherwise, 0.\n",
    "\n",
    "Each sample in the training and test set has the following information:\n",
    "\n",
    "* The text of a tweet.\n",
    "* A keyword from that tweet (although it may be blank).\n",
    "* The location from which the tweet was sent (may also be blank)."
   ]
  },
  {
   "cell_type": "markdown",
   "metadata": {
    "colab_type": "text",
    "id": "ivIZ70aOcufB"
   },
   "source": [
    "**Dataset**\n",
    "\n",
    "Using a dataset based on the public dataset: *Multilingual Disaster Response Messages*\n",
    "\n",
    "The data contains a set of messages related to disaster response, covering several languages, suitable for categorizing text and tasks related to the processing of natural languages.\n",
    "\n",
    "Details about the dataset can be obtained from the address below.\n",
    "\n",
    "https://appen.com/datasets/combined-disaster-response-data/"
   ]
  },
  {
   "cell_type": "markdown",
   "metadata": {
    "colab_type": "text",
    "id": "yXDUZU5hdPMD"
   },
   "source": [
    "# Imports"
   ]
  },
  {
   "cell_type": "code",
   "execution_count": 1,
   "metadata": {
    "colab": {},
    "colab_type": "code",
    "id": "SI1aJdrhdh0h"
   },
   "outputs": [],
   "source": [
    "!pip install -q -U watermark"
   ]
  },
  {
   "cell_type": "code",
   "execution_count": 2,
   "metadata": {
    "colab": {},
    "colab_type": "code",
    "id": "jtNF94IMdQgP"
   },
   "outputs": [],
   "source": [
    "!pip install -q gensim "
   ]
  },
  {
   "cell_type": "code",
   "execution_count": 3,
   "metadata": {
    "colab": {
     "base_uri": "https://localhost:8080/",
     "height": 0
    },
    "colab_type": "code",
    "id": "7VjmtxLmdWXp",
    "outputId": "14ce109f-8b22-48cf-ff3d-b4e4b0fc54e9"
   },
   "outputs": [
    {
     "name": "stderr",
     "output_type": "stream",
     "text": [
      "/usr/local/lib/python3.6/dist-packages/statsmodels/tools/_testing.py:19: FutureWarning: pandas.util.testing is deprecated. Use the functions in the public API at pandas.testing instead.\n",
      "  import pandas.util.testing as tm\n",
      "/usr/local/lib/python3.6/dist-packages/nltk/twitter/__init__.py:20: UserWarning: The twython library has not been installed. Some functionality from the twitter package will not be available.\n",
      "  warnings.warn(\"The twython library has not been installed. \"\n"
     ]
    }
   ],
   "source": [
    "# Imports\n",
    "import re\n",
    "import gc\n",
    "import nltk\n",
    "import torch\n",
    "import sklearn\n",
    "import gensim\n",
    "import numpy as np\n",
    "import pandas as pd\n",
    "import torch.nn as nn\n",
    "import matplotlib.pyplot as plt\n",
    "import seaborn as sns\n",
    "import gensim.downloader as api\n",
    "from collections import Counter\n",
    "from copy import deepcopy\n",
    "from nltk.tokenize import TweetTokenizer\n",
    "from nltk.sentiment.vader import SentimentIntensityAnalyzer\n",
    "from nltk.corpus import stopwords\n",
    "from gensim.models.word2vec import Word2Vec\n",
    "from sklearn.preprocessing import MinMaxScaler\n",
    "from sklearn.model_selection import train_test_split\n",
    "%matplotlib inline"
   ]
  },
  {
   "cell_type": "code",
   "execution_count": 4,
   "metadata": {
    "colab": {
     "base_uri": "https://localhost:8080/",
     "height": 0
    },
    "colab_type": "code",
    "id": "J1A1_FGjda17",
    "outputId": "d5a03a94-74b5-49b2-8895-6025f6cb649b"
   },
   "outputs": [
    {
     "name": "stdout",
     "output_type": "stream",
     "text": [
      "torch   1.6.0+cu101\n",
      "nltk    3.2.5\n",
      "seaborn 0.10.1\n",
      "re      2.2.1\n",
      "gensim  3.6.0\n",
      "numpy   1.18.5\n",
      "pandas  1.0.5\n",
      "sklearn 0.22.2.post1\n",
      "CPython 3.6.9\n",
      "IPython 5.5.0\n"
     ]
    }
   ],
   "source": [
    "# Google Colab Package Versions\n",
    "%reload_ext watermark\n",
    "%watermark -v -iv"
   ]
  },
  {
   "cell_type": "code",
   "execution_count": 5,
   "metadata": {
    "colab": {
     "base_uri": "https://localhost:8080/",
     "height": 0
    },
    "colab_type": "code",
    "id": "Gmcpdm46deM-",
    "outputId": "7855639d-f0c1-42f4-e6f7-56a86b2d164d"
   },
   "outputs": [
    {
     "name": "stdout",
     "output_type": "stream",
     "text": [
      "Device: cuda\n"
     ]
    }
   ],
   "source": [
    "# Set the device to run the model\n",
    "device = 'cuda' if torch.cuda.is_available() else 'cpu'\n",
    "print(f'Device: {device}')"
   ]
  },
  {
   "cell_type": "code",
   "execution_count": 5,
   "metadata": {
    "colab": {},
    "colab_type": "code",
    "id": "xXleWTVeegB7"
   },
   "outputs": [],
   "source": []
  },
  {
   "cell_type": "code",
   "execution_count": 6,
   "metadata": {
    "colab": {
     "base_uri": "https://localhost:8080/",
     "height": 0
    },
    "colab_type": "code",
    "id": "RscUtz60enxy",
    "outputId": "9dd657a2-f44d-4c42-d312-80deab6931c7"
   },
   "outputs": [
    {
     "name": "stdout",
     "output_type": "stream",
     "text": [
      "[nltk_data] Downloading package averaged_perceptron_tagger to\n",
      "[nltk_data]     /root/nltk_data...\n",
      "[nltk_data]   Unzipping taggers/averaged_perceptron_tagger.zip.\n"
     ]
    },
    {
     "data": {
      "text/plain": [
       "True"
      ]
     },
     "execution_count": 6,
     "metadata": {
      "tags": []
     },
     "output_type": "execute_result"
    }
   ],
   "source": [
    "# Download NTLK tagger\n",
    "nltk.download('averaged_perceptron_tagger')"
   ]
  },
  {
   "cell_type": "code",
   "execution_count": 7,
   "metadata": {
    "colab": {
     "base_uri": "https://localhost:8080/",
     "height": 0
    },
    "colab_type": "code",
    "id": "O1A1RUzKfVMi",
    "outputId": "5b96a6bf-2858-4c7d-93d2-a0a127623cf1"
   },
   "outputs": [
    {
     "name": "stdout",
     "output_type": "stream",
     "text": [
      "[nltk_data] Downloading package vader_lexicon to /root/nltk_data...\n"
     ]
    },
    {
     "data": {
      "text/plain": [
       "True"
      ]
     },
     "execution_count": 7,
     "metadata": {
      "tags": []
     },
     "output_type": "execute_result"
    }
   ],
   "source": [
    "# Download lexicon\n",
    "nltk.download('vader_lexicon')"
   ]
  },
  {
   "cell_type": "markdown",
   "metadata": {
    "colab_type": "text",
    "id": "yYwaARynv31e"
   },
   "source": [
    "# Preparing the Embedding Model"
   ]
  },
  {
   "cell_type": "code",
   "execution_count": 8,
   "metadata": {
    "colab": {
     "base_uri": "https://localhost:8080/",
     "height": 88
    },
    "colab_type": "code",
    "id": "esucAGkRvyjh",
    "outputId": "09e883f2-d109-4493-e979-ff21678f48eb"
   },
   "outputs": [
    {
     "name": "stdout",
     "output_type": "stream",
     "text": [
      "[==================================================] 100.0% 387.1/387.1MB downloaded\n"
     ]
    },
    {
     "name": "stderr",
     "output_type": "stream",
     "text": [
      "/usr/local/lib/python3.6/dist-packages/smart_open/smart_open_lib.py:254: UserWarning: This function is deprecated, use smart_open.open instead. See the migration notes for details: https://github.com/RaRe-Technologies/smart_open/blob/master/README.rst#migrating-to-the-new-open-function\n",
      "  'See the migration notes for details: %s' % _MIGRATION_NOTES_URL\n"
     ]
    }
   ],
   "source": [
    "# Loading a model pretrained with twitter data\n",
    "model_glove_twitter = api.load(\"glove-twitter-100\")"
   ]
  },
  {
   "cell_type": "code",
   "execution_count": 9,
   "metadata": {
    "colab": {
     "base_uri": "https://localhost:8080/",
     "height": 34
    },
    "colab_type": "code",
    "id": "fxfIOdbr8fRK",
    "outputId": "1c5f7d88-dd14-4eb8-949e-2f2296050735"
   },
   "outputs": [
    {
     "data": {
      "text/plain": [
       "100"
      ]
     },
     "execution_count": 9,
     "metadata": {
      "tags": []
     },
     "output_type": "execute_result"
    }
   ],
   "source": [
    "# Model vector size\n",
    "model_glove_twitter.vector_size"
   ]
  },
  {
   "cell_type": "code",
   "execution_count": 10,
   "metadata": {
    "colab": {
     "base_uri": "https://localhost:8080/",
     "height": 374
    },
    "colab_type": "code",
    "id": "EU-WC9mDwZI2",
    "outputId": "858bc980-bb74-4e88-9b0b-812af8919912"
   },
   "outputs": [
    {
     "data": {
      "text/plain": [
       "array([[-0.15228774, -0.7779301 ,  0.1460513 , -0.78397346, -0.67638195,\n",
       "        -0.92179185,  0.6653437 , -0.52267456, -0.07600751,  0.59899086,\n",
       "         0.30160093,  0.51256144,  0.62603956, -0.98823535, -0.8988257 ,\n",
       "        -0.11218564, -0.11963747, -0.82945645, -0.56116694, -0.48435378,\n",
       "        -0.24895552, -0.3755303 ,  0.4293109 ,  0.04036734, -0.40730292,\n",
       "        -0.32084548,  0.630183  ,  0.17985234,  0.3362619 ,  0.9567786 ,\n",
       "        -0.56765604, -0.6460069 ,  0.56170535,  0.24307416,  0.43949696,\n",
       "        -0.11729505,  0.5648272 ,  0.6418695 ,  0.8418464 , -0.92995185,\n",
       "        -0.08862245, -0.39612278,  0.9556933 ,  0.36304367,  0.9435056 ,\n",
       "         0.9012786 , -0.03444151,  0.59105396, -0.00391296,  0.6635091 ,\n",
       "         0.9435658 ,  0.2171051 ,  0.958137  ,  0.74699914,  0.36015955,\n",
       "         0.81875867,  0.47610083, -0.52134055,  0.51991296,  0.9171786 ,\n",
       "         0.45472383, -0.29279634, -0.9296127 , -0.9245855 ,  0.612925  ,\n",
       "        -0.80240875,  0.4776652 ,  0.02110074, -0.73492515,  0.91925156,\n",
       "         0.97876674,  0.27329978,  0.4391174 ,  0.9864372 ,  0.07137173,\n",
       "        -0.56672674, -0.8826371 , -0.7024133 ,  0.24381687,  0.26646733,\n",
       "        -0.17567189, -0.9907748 ,  0.13369767, -0.904514  , -0.8957776 ,\n",
       "         0.57441974,  0.86603725, -0.5194038 ,  0.71051836,  0.7253515 ,\n",
       "        -0.1079134 ,  0.65871036, -0.59114414,  0.39294195, -0.33553073,\n",
       "        -0.9913117 ,  0.72779137, -0.9105424 , -0.1652777 ,  0.17466587]],\n",
       "      dtype=float32)"
      ]
     },
     "execution_count": 10,
     "metadata": {
      "tags": []
     },
     "output_type": "execute_result"
    }
   ],
   "source": [
    "# Create a randomized vector to represent the <UNK> token (unseen word)\n",
    "random_vec_for_unk = np.random.uniform(-1, 1, size = model_glove_twitter.vector_size).astype('float32')\n",
    "random_vec_for_unk = random_vec_for_unk.reshape(1, model_glove_twitter.vector_size)\n",
    "random_vec_for_unk"
   ]
  },
  {
   "cell_type": "code",
   "execution_count": 11,
   "metadata": {
    "colab": {
     "base_uri": "https://localhost:8080/",
     "height": 241
    },
    "colab_type": "code",
    "id": "r6ToBPyQw6mb",
    "outputId": "536a87fb-aac9-4ff1-98ba-d17b8d81e312"
   },
   "outputs": [
    {
     "name": "stderr",
     "output_type": "stream",
     "text": [
      "/usr/local/lib/python3.6/dist-packages/gensim/matutils.py:737: FutureWarning: Conversion of the second argument of issubdtype from `int` to `np.signedinteger` is deprecated. In future, it will be treated as `np.int64 == np.dtype(int).type`.\n",
      "  if np.issubdtype(vec.dtype, np.int):\n"
     ]
    },
    {
     "data": {
      "text/plain": [
       "[('nnsunshine', 0.41928791999816895),\n",
       " ('despedirnos', 0.3852018117904663),\n",
       " ('̿', 0.38152292370796204),\n",
       " ('jumpity', 0.36855828762054443),\n",
       " ('amarlo', 0.3654995560646057),\n",
       " ('tankless', 0.3651796877384186),\n",
       " ('знаю.n', 0.362972617149353),\n",
       " ('❦', 0.35941869020462036),\n",
       " ('chapemos', 0.3581884503364563),\n",
       " ('مطاوع', 0.3550451993942261)]"
      ]
     },
     "execution_count": 11,
     "metadata": {
      "tags": []
     },
     "output_type": "execute_result"
    }
   ],
   "source": [
    "# Similarity test\n",
    "model_glove_twitter.most_similar(random_vec_for_unk)"
   ]
  },
  {
   "cell_type": "code",
   "execution_count": 12,
   "metadata": {
    "colab": {},
    "colab_type": "code",
    "id": "_wszbVdwxMME"
   },
   "outputs": [],
   "source": [
    "# Add the random vector to the model\n",
    "model_glove_twitter.add(['<UNK>'], random_vec_for_unk, replace = True)"
   ]
  },
  {
   "cell_type": "code",
   "execution_count": 13,
   "metadata": {
    "colab": {},
    "colab_type": "code",
    "id": "dkampsQCxkXr"
   },
   "outputs": [],
   "source": [
    "# Generate normalized vectors and substitute the original ones\n",
    "model_glove_twitter.init_sims(replace = True)"
   ]
  },
  {
   "cell_type": "markdown",
   "metadata": {
    "colab_type": "text",
    "id": "yKuc7a2M9NvM"
   },
   "source": [
    "# Tokenizer"
   ]
  },
  {
   "cell_type": "code",
   "execution_count": 14,
   "metadata": {
    "colab": {},
    "colab_type": "code",
    "id": "YiEjUfHc9PRg"
   },
   "outputs": [],
   "source": [
    "# Create a tokenizer which converts to lower case, reduces length, and preserves the user ('@user')\n",
    "tokenizer = TweetTokenizer(preserve_case = False, reduce_len = True, strip_handles = False)"
   ]
  },
  {
   "cell_type": "markdown",
   "metadata": {
    "colab_type": "text",
    "id": "eIQo9amLfcZS"
   },
   "source": [
    "# Cleaning and Preprocessing Functions"
   ]
  },
  {
   "cell_type": "markdown",
   "metadata": {
    "colab_type": "text",
    "id": "yrIZl4TNfjab"
   },
   "source": [
    "Creating multiple functions that will be used in the cleaning process"
   ]
  },
  {
   "cell_type": "markdown",
   "metadata": {
    "colab_type": "text",
    "id": "hppOQE70jKgh"
   },
   "source": [
    "## Text Cleaning"
   ]
  },
  {
   "cell_type": "code",
   "execution_count": 15,
   "metadata": {
    "colab": {},
    "colab_type": "code",
    "id": "kYU7mK6q5-Ig"
   },
   "outputs": [],
   "source": [
    "# Sample text to test functions\n",
    "txt = 'ALLCAPS Capitalized 1234 #Hashtag @UserName \">.<* http://t.co/8kscqKfKkF'"
   ]
  },
  {
   "cell_type": "code",
   "execution_count": 16,
   "metadata": {
    "colab": {},
    "colab_type": "code",
    "id": "3W9B-ZchfbH9"
   },
   "outputs": [],
   "source": [
    "def normalize_tweet(text):\n",
    "\n",
    "    # Change hyperlinks to '<url>' tokens\n",
    "    output = re.sub(r'http[s]{0,1}://t.co/[a-zA-Z0-9]+\\b', '<url>', text)\n",
    "\n",
    "    # Split the '#' symbols from the ensuing word with a blank space\n",
    "    output = re.sub(r'#(\\w+)', r'# \\1', output)\n",
    "\n",
    "    return output"
   ]
  },
  {
   "cell_type": "code",
   "execution_count": 17,
   "metadata": {
    "colab": {},
    "colab_type": "code",
    "id": "VCEHkmCVgCej"
   },
   "outputs": [],
   "source": [
    "def tokenize(tokenizer, string):\n",
    "    # Tokenize sentenses but keeps hashtags (#) and users (@)\n",
    "    tokenized = tokenizer.tokenize(string)\n",
    "    return tokenized"
   ]
  },
  {
   "cell_type": "code",
   "execution_count": 18,
   "metadata": {
    "colab": {},
    "colab_type": "code",
    "id": "Mk3AsLHJgddA"
   },
   "outputs": [],
   "source": [
    "# Function that returns the tokenized string (list) with numbers substituted by a numeric token\n",
    "def number_tokens(tokenized_string, num_token = '<number>'):\n",
    "\n",
    "    # Create a list of tuples (word, POS tags)\n",
    "    pos_tagged = nltk.pos_tag(tokenized_string)\n",
    "\n",
    "    # Find all number indexes in the POS tags\n",
    "    num_indexes = [idx for idx in range(len(pos_tagged)) if pos_tagged[idx][1] == 'CD']\n",
    "\n",
    "    # Substitute numbers for tokens\n",
    "    for idx in num_indexes:\n",
    "        tokenized_string[idx] = num_token\n",
    "\n",
    "    return tokenized_string"
   ]
  },
  {
   "cell_type": "code",
   "execution_count": 19,
   "metadata": {
    "colab": {},
    "colab_type": "code",
    "id": "4HNhsXDS7W35"
   },
   "outputs": [],
   "source": [
    "# Function which runs all text cleaning functions\n",
    "def preprocess_text(tokenizer, string):\n",
    "    return number_tokens(tokenize(tokenizer, normalize_tweet(string)))"
   ]
  },
  {
   "cell_type": "code",
   "execution_count": 20,
   "metadata": {
    "colab": {
     "base_uri": "https://localhost:8080/",
     "height": 0
    },
    "colab_type": "code",
    "id": "IMdRLlJJ7Quf",
    "outputId": "c761f3d7-e2a2-498f-f10f-b0c1b99b6273"
   },
   "outputs": [
    {
     "data": {
      "text/plain": [
       "['allcaps',\n",
       " 'capitalized',\n",
       " '<number>',\n",
       " '#',\n",
       " 'hashtag',\n",
       " '@username',\n",
       " '\"',\n",
       " '>',\n",
       " '.',\n",
       " '<',\n",
       " '*',\n",
       " '<url>']"
      ]
     },
     "execution_count": 20,
     "metadata": {
      "tags": []
     },
     "output_type": "execute_result"
    }
   ],
   "source": [
    "preprocess_text(tokenizer, txt)"
   ]
  },
  {
   "cell_type": "code",
   "execution_count": 21,
   "metadata": {
    "colab": {},
    "colab_type": "code",
    "id": "LpY73sTAiEHn"
   },
   "outputs": [],
   "source": [
    "# Return the tokeniezd and cleaned keyword\n",
    "def preprocess_keyword(keyword):\n",
    "\n",
    "    # Return None if the keyword is np.nan\n",
    "    if type(keyword) == np.float and np.isnan(keyword):\n",
    "        return\n",
    "    \n",
    "    # Replace '%20' with space, lower case and tokenized\n",
    "    output = re.sub(r'%20', ' ', keyword)\n",
    "    output = output.lower()\n",
    "    output = output.split()\n",
    "    return output"
   ]
  },
  {
   "cell_type": "code",
   "execution_count": 22,
   "metadata": {
    "colab": {
     "base_uri": "https://localhost:8080/",
     "height": 0
    },
    "colab_type": "code",
    "id": "DKPMNGUP7Oup",
    "outputId": "11c09e7e-8c8d-45c5-e349-b14adcd14a2e"
   },
   "outputs": [
    {
     "data": {
      "text/plain": [
       "['allcaps',\n",
       " 'capitalized',\n",
       " '1234',\n",
       " '#hashtag',\n",
       " '@username',\n",
       " '\">.<*',\n",
       " 'http://t.co/8kscqkfkkf']"
      ]
     },
     "execution_count": 22,
     "metadata": {
      "tags": []
     },
     "output_type": "execute_result"
    }
   ],
   "source": [
    "preprocess_keyword(txt)"
   ]
  },
  {
   "cell_type": "markdown",
   "metadata": {
    "colab_type": "text",
    "id": "rkjWwNubjMoO"
   },
   "source": [
    "## Feature Engineering"
   ]
  },
  {
   "cell_type": "code",
   "execution_count": 23,
   "metadata": {
    "colab": {},
    "colab_type": "code",
    "id": "s3r_2PYsjIYM"
   },
   "outputs": [],
   "source": [
    "# Function to tally words written in ALL CAPS\n",
    "def count_all_caps(text):\n",
    "    return len([word for word in text.split() if word.isupper()])"
   ]
  },
  {
   "cell_type": "code",
   "execution_count": 24,
   "metadata": {
    "colab": {},
    "colab_type": "code",
    "id": "gIsGxU2Fjfhf"
   },
   "outputs": [],
   "source": [
    "# Function to tally words with the First Letter Capitalized\n",
    "def count_capitalized(text):\n",
    "    return len([word for word in text.split() if word.istitle()])"
   ]
  },
  {
   "cell_type": "code",
   "execution_count": 25,
   "metadata": {
    "colab": {},
    "colab_type": "code",
    "id": "dTwpM9OYjsWo"
   },
   "outputs": [],
   "source": [
    "# Function to tally number of words in the tweet\n",
    "def count_words(text):\n",
    "    return len(text.split())"
   ]
  },
  {
   "cell_type": "code",
   "execution_count": 26,
   "metadata": {
    "colab": {
     "base_uri": "https://localhost:8080/",
     "height": 0
    },
    "colab_type": "code",
    "id": "KHXntjmA7eHw",
    "outputId": "6973ebce-0e8a-4dd7-ba35-47e20e4a8b1e"
   },
   "outputs": [
    {
     "name": "stdout",
     "output_type": "stream",
     "text": [
      "ALLCAPS: 1\n",
      "Captilaized: 2\n",
      "words: 7\n"
     ]
    }
   ],
   "source": [
    "print(f'ALLCAPS: {count_all_caps(txt)}')\n",
    "print(f'Captilaized: {count_capitalized(txt)}')\n",
    "print(f'words: {count_words(txt)}')"
   ]
  },
  {
   "cell_type": "code",
   "execution_count": 27,
   "metadata": {
    "colab": {},
    "colab_type": "code",
    "id": "sbtkZ2syjy1p"
   },
   "outputs": [],
   "source": [
    "# Function that appends 4 sentiment analysis score columns to a DataFrame\n",
    "def sentiment_analyze_df(df, column):\n",
    "\n",
    "    # Instance the sentiment intensity analyzer\n",
    "    sid = SentimentIntensityAnalyzer()\n",
    "\n",
    "    # Create a matrix and fill with scores from each of the df[column]\n",
    "    output_values = np.zeros((len(df), 4))\n",
    "    for tup in df.itertuples():\n",
    "        output_values[tup.Index, :] = list(sid.polarity_scores(' '.join(getattr(tup, column))).values())\n",
    "    \n",
    "    # Append the column to the DataFrame\n",
    "    for idx, col in enumerate(['sent_neg', 'sent_neu', 'sent_pos', 'sent_compound']):\n",
    "        df[col] = output_values[:, idx]"
   ]
  },
  {
   "cell_type": "markdown",
   "metadata": {
    "colab_type": "text",
    "id": "R5Ud1FSlmk9E"
   },
   "source": [
    "## Word Embedding"
   ]
  },
  {
   "cell_type": "markdown",
   "metadata": {
    "colab_type": "text",
    "id": "86aQOkrInL63"
   },
   "source": [
    "### Text Embedding"
   ]
  },
  {
   "cell_type": "code",
   "execution_count": 28,
   "metadata": {
    "colab": {},
    "colab_type": "code",
    "id": "zIiyp12sllbC"
   },
   "outputs": [],
   "source": [
    "# Get the embeddinbg vector of the input word\n",
    "def get_word_vec(embedding_model, use_norm, word):\n",
    "\n",
    "    if word[0] == '@':\n",
    "        return embedding_model.word_vec('<user>', use_norm = use_norm)\n",
    "\n",
    "    elif word == '#':\n",
    "        return embedding_model.word_vec('<hashtag>', use_norm = use_norm)\n",
    "\n",
    "    elif word in embedding_model.vocab:\n",
    "        return embedding_model.word_vec(word, use_norm = use_norm)\n",
    "\n",
    "    else:\n",
    "        return embedding_model.word_vec('<UNK>', use_norm = use_norm)"
   ]
  },
  {
   "cell_type": "code",
   "execution_count": 29,
   "metadata": {
    "colab": {
     "base_uri": "https://localhost:8080/",
     "height": 0
    },
    "colab_type": "code",
    "id": "wt7VLjb58Ptl",
    "outputId": "64f55155-dc11-4f12-a21e-6367ef43ff25"
   },
   "outputs": [
    {
     "data": {
      "text/plain": [
       "array([ 1.7185701e-01, -6.2684923e-02, -7.7950597e-02, -5.3556234e-02,\n",
       "        1.7126767e-01,  4.4343792e-02, -2.7128624e-02,  9.2938647e-02,\n",
       "        1.1612639e-01,  7.2050910e-03, -6.5412987e-03,  1.4826292e-01,\n",
       "       -5.9182960e-01,  1.3363624e-02,  3.2728985e-02,  8.3465651e-03,\n",
       "       -3.1170310e-02,  8.7296419e-02, -1.7081790e-01,  2.5265975e-02,\n",
       "       -7.6807566e-02, -1.0581435e-01,  5.0994121e-02, -7.9337113e-02,\n",
       "        6.7829318e-02, -3.8430151e-02, -8.6004496e-02,  8.9869387e-02,\n",
       "       -9.3864545e-04,  6.4546026e-02, -1.9738508e-02, -7.5290777e-02,\n",
       "       -6.8303891e-02,  5.3086311e-02,  6.2632196e-02,  2.6654042e-02,\n",
       "       -6.8552040e-02, -1.3344702e-02,  5.0967757e-02,  6.1545003e-02,\n",
       "       -2.7503947e-02,  2.6702121e-01, -1.0047454e-02, -2.5424168e-02,\n",
       "        6.2819861e-02, -1.0835165e-01,  1.6926698e-01,  4.8653791e-03,\n",
       "       -5.8930158e-03,  2.5560649e-04,  9.7270355e-02,  1.4213991e-01,\n",
       "       -1.0200686e-01,  4.2408250e-02, -4.8805777e-02,  2.4174130e-02,\n",
       "        1.6320290e-02,  5.3745449e-02, -1.3390920e-02, -4.1901100e-02,\n",
       "        9.4697386e-02,  7.4665755e-02,  1.5075369e-01, -5.7577759e-02,\n",
       "        8.1754997e-02, -1.9986656e-02, -3.8340196e-02, -1.2066903e-02,\n",
       "        5.7976346e-02, -4.3714122e-04,  7.5338848e-02,  1.1568128e-01,\n",
       "        1.4580627e-02,  3.0684874e-03, -8.2536653e-02, -4.5375153e-03,\n",
       "       -2.8164636e-02,  1.1597905e-02,  9.3602434e-02,  3.9475471e-02,\n",
       "        2.9464304e-01,  5.1937077e-02, -7.5799473e-02, -5.1871937e-02,\n",
       "        3.3121362e-02,  2.0430218e-02, -7.9000564e-03,  4.2912297e-02,\n",
       "        7.4671959e-03,  9.2232982e-03,  3.8744986e-02, -3.4132563e-02,\n",
       "       -4.7775973e-02,  3.9501833e-03,  2.7931998e-02,  3.7803579e-02,\n",
       "        1.2098852e-02, -9.6324295e-02, -1.8367499e-01, -3.5287995e-02],\n",
       "      dtype=float32)"
      ]
     },
     "execution_count": 29,
     "metadata": {
      "tags": []
     },
     "output_type": "execute_result"
    }
   ],
   "source": [
    "get_word_vec(model_glove_twitter, True, 'car')"
   ]
  },
  {
   "cell_type": "code",
   "execution_count": 30,
   "metadata": {
    "colab": {},
    "colab_type": "code",
    "id": "_xH9PQpgoqwj"
   },
   "outputs": [],
   "source": [
    "# Get embedding vectors of all words in a tweet\n",
    "def text_to_vectors(embedding_model, use_norm, tokenized_text):\n",
    "    vectors = [get_word_vec(embedding_model, use_norm, word) for word in tokenized_text]\n",
    "    vectors = np.array(vectors)\n",
    "\n",
    "    return vectors"
   ]
  },
  {
   "cell_type": "code",
   "execution_count": 31,
   "metadata": {
    "colab": {},
    "colab_type": "code",
    "id": "WedVJ2MaqEg7"
   },
   "outputs": [],
   "source": [
    "# Return a matrix with the embedding vectors of the texts with dimensions (seq_len, embedding)\n",
    "def trim_and_pad_vectors(text_vectors, embedding_dimension, seq_len):\n",
    "\n",
    "    # Instance the 0's matrix\n",
    "    output = np.zeros((seq_len, embedding_dimension))\n",
    "\n",
    "    # Adjust (cut) the tweets longer than seq_len\n",
    "    trimmed_vectors = text_vectors[:seq_len]\n",
    "\n",
    "    # Calculate the number of zeroes needed to pad the beginning of tweets shorter than seq_len\n",
    "    end_of_padding_index = seq_len - trimmed_vectors.shape[0]\n",
    "\n",
    "    # Alternative: Pad at the end of tweets\n",
    "    #tweet_len = len(trimmed_vectors)\n",
    "\n",
    "    # Output\n",
    "    output[end_of_padding_index:] = trimmed_vectors\n",
    "\n",
    "    return output"
   ]
  },
  {
   "cell_type": "code",
   "execution_count": 32,
   "metadata": {
    "colab": {},
    "colab_type": "code",
    "id": "PmCVDhY5tr8C"
   },
   "outputs": [],
   "source": [
    "# Return embedding representations from the tokenized input text\n",
    "def embedding_preprocess(embedding_model, use_norm, seq_len, tokenized_text):\n",
    "\n",
    "    # Get the matrix with embedding vectors (tweet length, embedding_dimension)\n",
    "    text_vectors = text_to_vectors(embedding_model, use_norm, tokenized_text)\n",
    "\n",
    "    # Output\n",
    "    output = trim_and_pad_vectors(text_vectors, embedding_model.vector_size, seq_len)\n",
    "\n",
    "    return output"
   ]
  },
  {
   "cell_type": "code",
   "execution_count": 33,
   "metadata": {
    "colab": {
     "base_uri": "https://localhost:8080/",
     "height": 0
    },
    "colab_type": "code",
    "id": "UpftGtJx9033",
    "outputId": "dbb20da3-e076-4760-abc8-7fc1bfc2d60a"
   },
   "outputs": [
    {
     "data": {
      "text/plain": [
       "(30, 100)"
      ]
     },
     "execution_count": 33,
     "metadata": {
      "tags": []
     },
     "output_type": "execute_result"
    }
   ],
   "source": [
    "embedding_preprocess(model_glove_twitter, True, 30, 'car').shape"
   ]
  },
  {
   "cell_type": "markdown",
   "metadata": {
    "colab_type": "text",
    "id": "pIEO6inbufos"
   },
   "source": [
    "### Keyword Embedding"
   ]
  },
  {
   "cell_type": "code",
   "execution_count": 34,
   "metadata": {
    "colab": {},
    "colab_type": "code",
    "id": "HzdeVxVmucSp"
   },
   "outputs": [],
   "source": [
    "# Return embedding vectors from the keywords\n",
    "def keyword_to_avg_vector(embedding_model, use_norm, tokenized_keyword):\n",
    "\n",
    "    # Return a zeros vector if tokenized_keyword is None\n",
    "    if tokenized_keyword is None:\n",
    "        return np.zeros((1, embedding_model.vector_size))\n",
    "\n",
    "    # If not, calculate the average embedding\n",
    "    vectors = [get_word_vec(embedding_model, use_norm, word) for word in tokenized_keyword]\n",
    "    vectors = np.array(vectors)\n",
    "    avg_vector = np.mean(vectors, axis = 0)\n",
    "    avg_vector = avg_vector.reshape((1, embedding_model.vector_size))\n",
    "    return avg_vector"
   ]
  },
  {
   "cell_type": "code",
   "execution_count": 35,
   "metadata": {
    "colab": {
     "base_uri": "https://localhost:8080/",
     "height": 0
    },
    "colab_type": "code",
    "id": "AohWqP5j-Gf3",
    "outputId": "38d7be3a-aa74-4769-bc75-231ec65481d2"
   },
   "outputs": [
    {
     "data": {
      "text/plain": [
       "array([[ 7.1422994e-02,  1.0837428e-04, -2.0304391e-02, -9.7281085e-03,\n",
       "         5.4865009e-03,  1.6073441e-02, -5.4071378e-02, -7.6703727e-04,\n",
       "        -7.9964429e-02,  1.3259843e-02, -3.6176857e-02, -2.7829463e-02,\n",
       "        -5.2243638e-01, -8.9000994e-03,  6.7731552e-03, -8.6577915e-02,\n",
       "        -4.9584497e-02, -4.8650862e-03, -7.6949872e-02,  1.1324879e-01,\n",
       "         5.4936390e-03, -3.9466392e-02,  6.5117046e-02,  1.7653236e-02,\n",
       "         8.3768116e-03, -4.0137902e-01, -1.2125109e-02,  5.3382986e-03,\n",
       "         8.5278727e-02,  1.2624326e-01, -2.2414498e-02, -2.8622678e-02,\n",
       "         1.4793989e-02,  3.3068947e-02,  1.0932809e-01,  1.9231563e-02,\n",
       "        -2.3901654e-02, -5.0810490e-02,  7.2450265e-03,  5.5991784e-02,\n",
       "        -2.2831148e-01,  2.0155048e-02,  3.3842932e-02, -7.8908496e-02,\n",
       "        -2.3725579e-02, -1.9583063e-02,  1.5705056e-02, -2.2528805e-02,\n",
       "        -1.7095990e-03, -1.1425083e-01,  3.2133192e-02,  2.1985523e-02,\n",
       "         1.5025365e-02,  1.3879955e-02,  4.4742834e-02,  4.4733051e-02,\n",
       "         1.0754197e-02, -4.5661073e-02,  3.0807272e-02, -8.5210733e-02,\n",
       "        -3.4276128e-02,  7.3676580e-03,  2.3491520e-03,  3.7474710e-02,\n",
       "         7.2234049e-02, -2.6061146e-02, -6.5206297e-02,  4.4206645e-02,\n",
       "        -7.2959871e-03, -2.2194684e-02,  1.3491760e-02, -1.2196609e-01,\n",
       "         3.0354822e-02,  2.6037836e-02, -5.5951755e-02,  6.7963578e-02,\n",
       "        -4.2082403e-02,  8.6082615e-02, -2.0323297e-02, -7.3177807e-02,\n",
       "         1.8340968e-01,  4.4217035e-02,  7.0645311e-03, -2.1019183e-02,\n",
       "         5.6230608e-02,  1.0603925e-01, -1.0344982e-01,  1.0831359e-02,\n",
       "         2.6398713e-02,  9.4233036e-02,  4.3990161e-02, -1.6522117e-02,\n",
       "        -8.5271560e-03,  4.5768660e-02,  3.2450225e-02, -6.9335289e-02,\n",
       "        -6.3237041e-02, -1.9166874e-02, -1.8572828e-02, -3.9172549e-02]],\n",
       "      dtype=float32)"
      ]
     },
     "execution_count": 35,
     "metadata": {
      "tags": []
     },
     "output_type": "execute_result"
    }
   ],
   "source": [
    "keyword_to_avg_vector(model_glove_twitter, True, 'car')"
   ]
  },
  {
   "cell_type": "markdown",
   "metadata": {
    "colab_type": "text",
    "id": "EhbbLuv-56gU"
   },
   "source": [
    "# Preprocessing Train Dataset"
   ]
  },
  {
   "cell_type": "code",
   "execution_count": 36,
   "metadata": {
    "colab": {
     "base_uri": "https://localhost:8080/",
     "height": 204
    },
    "colab_type": "code",
    "id": "yRb_Iv4Mxtrr",
    "outputId": "25e86184-f903-4b50-e8f5-798455307773"
   },
   "outputs": [
    {
     "data": {
      "text/html": [
       "<div>\n",
       "<style scoped>\n",
       "    .dataframe tbody tr th:only-of-type {\n",
       "        vertical-align: middle;\n",
       "    }\n",
       "\n",
       "    .dataframe tbody tr th {\n",
       "        vertical-align: top;\n",
       "    }\n",
       "\n",
       "    .dataframe thead th {\n",
       "        text-align: right;\n",
       "    }\n",
       "</style>\n",
       "<table border=\"1\" class=\"dataframe\">\n",
       "  <thead>\n",
       "    <tr style=\"text-align: right;\">\n",
       "      <th></th>\n",
       "      <th>id</th>\n",
       "      <th>keyword</th>\n",
       "      <th>location</th>\n",
       "      <th>text</th>\n",
       "      <th>target</th>\n",
       "    </tr>\n",
       "  </thead>\n",
       "  <tbody>\n",
       "    <tr>\n",
       "      <th>0</th>\n",
       "      <td>1</td>\n",
       "      <td>NaN</td>\n",
       "      <td>NaN</td>\n",
       "      <td>Our Deeds are the Reason of this #earthquake M...</td>\n",
       "      <td>1</td>\n",
       "    </tr>\n",
       "    <tr>\n",
       "      <th>1</th>\n",
       "      <td>4</td>\n",
       "      <td>NaN</td>\n",
       "      <td>NaN</td>\n",
       "      <td>Forest fire near La Ronge Sask. Canada</td>\n",
       "      <td>1</td>\n",
       "    </tr>\n",
       "    <tr>\n",
       "      <th>2</th>\n",
       "      <td>5</td>\n",
       "      <td>NaN</td>\n",
       "      <td>NaN</td>\n",
       "      <td>All residents asked to 'shelter in place' are ...</td>\n",
       "      <td>1</td>\n",
       "    </tr>\n",
       "    <tr>\n",
       "      <th>3</th>\n",
       "      <td>6</td>\n",
       "      <td>NaN</td>\n",
       "      <td>NaN</td>\n",
       "      <td>13,000 people receive #wildfires evacuation or...</td>\n",
       "      <td>1</td>\n",
       "    </tr>\n",
       "    <tr>\n",
       "      <th>4</th>\n",
       "      <td>7</td>\n",
       "      <td>NaN</td>\n",
       "      <td>NaN</td>\n",
       "      <td>Just got sent this photo from Ruby #Alaska as ...</td>\n",
       "      <td>1</td>\n",
       "    </tr>\n",
       "  </tbody>\n",
       "</table>\n",
       "</div>"
      ],
      "text/plain": [
       "   id keyword  ...                                               text target\n",
       "0   1     NaN  ...  Our Deeds are the Reason of this #earthquake M...      1\n",
       "1   4     NaN  ...             Forest fire near La Ronge Sask. Canada      1\n",
       "2   5     NaN  ...  All residents asked to 'shelter in place' are ...      1\n",
       "3   6     NaN  ...  13,000 people receive #wildfires evacuation or...      1\n",
       "4   7     NaN  ...  Just got sent this photo from Ruby #Alaska as ...      1\n",
       "\n",
       "[5 rows x 5 columns]"
      ]
     },
     "execution_count": 36,
     "metadata": {
      "tags": []
     },
     "output_type": "execute_result"
    }
   ],
   "source": [
    "# Load training data\n",
    "data_train = pd.read_csv('https://raw.githubusercontent.com/Matheus-Schmitz/Disaster_Occurance_Twitter/master/dataset_train.csv')\n",
    "data_train.head()"
   ]
  },
  {
   "cell_type": "markdown",
   "metadata": {
    "colab_type": "text",
    "id": "Ooc4gT6-6p_v"
   },
   "source": [
    "## Cleaning"
   ]
  },
  {
   "cell_type": "code",
   "execution_count": 37,
   "metadata": {
    "colab": {},
    "colab_type": "code",
    "id": "tqSvZlhJ7FkM"
   },
   "outputs": [],
   "source": [
    "# Normalize and tokenize text\n",
    "data_train['tok_norm_text'] = [preprocess_text(tokenizer, text) for text in data_train['text']]"
   ]
  },
  {
   "cell_type": "code",
   "execution_count": 38,
   "metadata": {
    "colab": {},
    "colab_type": "code",
    "id": "PfkgRFPj795t"
   },
   "outputs": [],
   "source": [
    "# Normalize and tokenize keyword\n",
    "data_train['keyword'] = data_train['keyword'].apply(preprocess_keyword)"
   ]
  },
  {
   "cell_type": "code",
   "execution_count": 39,
   "metadata": {
    "colab": {
     "base_uri": "https://localhost:8080/",
     "height": 0
    },
    "colab_type": "code",
    "id": "iQIc8qnu-Yq_",
    "outputId": "3a488ec9-ec23-45f5-f23a-5c724e6d971e"
   },
   "outputs": [
    {
     "data": {
      "text/html": [
       "<div>\n",
       "<style scoped>\n",
       "    .dataframe tbody tr th:only-of-type {\n",
       "        vertical-align: middle;\n",
       "    }\n",
       "\n",
       "    .dataframe tbody tr th {\n",
       "        vertical-align: top;\n",
       "    }\n",
       "\n",
       "    .dataframe thead th {\n",
       "        text-align: right;\n",
       "    }\n",
       "</style>\n",
       "<table border=\"1\" class=\"dataframe\">\n",
       "  <thead>\n",
       "    <tr style=\"text-align: right;\">\n",
       "      <th></th>\n",
       "      <th>id</th>\n",
       "      <th>keyword</th>\n",
       "      <th>location</th>\n",
       "      <th>text</th>\n",
       "      <th>target</th>\n",
       "      <th>tok_norm_text</th>\n",
       "    </tr>\n",
       "  </thead>\n",
       "  <tbody>\n",
       "    <tr>\n",
       "      <th>0</th>\n",
       "      <td>1</td>\n",
       "      <td>None</td>\n",
       "      <td>NaN</td>\n",
       "      <td>Our Deeds are the Reason of this #earthquake M...</td>\n",
       "      <td>1</td>\n",
       "      <td>[our, deeds, are, the, reason, of, this, #, ea...</td>\n",
       "    </tr>\n",
       "    <tr>\n",
       "      <th>1</th>\n",
       "      <td>4</td>\n",
       "      <td>None</td>\n",
       "      <td>NaN</td>\n",
       "      <td>Forest fire near La Ronge Sask. Canada</td>\n",
       "      <td>1</td>\n",
       "      <td>[forest, fire, near, la, ronge, sask, ., canada]</td>\n",
       "    </tr>\n",
       "    <tr>\n",
       "      <th>2</th>\n",
       "      <td>5</td>\n",
       "      <td>None</td>\n",
       "      <td>NaN</td>\n",
       "      <td>All residents asked to 'shelter in place' are ...</td>\n",
       "      <td>1</td>\n",
       "      <td>[all, residents, asked, to, ', shelter, in, pl...</td>\n",
       "    </tr>\n",
       "  </tbody>\n",
       "</table>\n",
       "</div>"
      ],
      "text/plain": [
       "   id keyword  ... target                                      tok_norm_text\n",
       "0   1    None  ...      1  [our, deeds, are, the, reason, of, this, #, ea...\n",
       "1   4    None  ...      1   [forest, fire, near, la, ronge, sask, ., canada]\n",
       "2   5    None  ...      1  [all, residents, asked, to, ', shelter, in, pl...\n",
       "\n",
       "[3 rows x 6 columns]"
      ]
     },
     "execution_count": 39,
     "metadata": {
      "tags": []
     },
     "output_type": "execute_result"
    }
   ],
   "source": [
    "# Check\n",
    "data_train.head(3)"
   ]
  },
  {
   "cell_type": "markdown",
   "metadata": {
    "colab_type": "text",
    "id": "f-cWeyrr8WfL"
   },
   "source": [
    "## Feature Engineering"
   ]
  },
  {
   "cell_type": "code",
   "execution_count": 40,
   "metadata": {
    "colab": {},
    "colab_type": "code",
    "id": "AfwJdJUF8PjV"
   },
   "outputs": [],
   "source": [
    "# Apply the functions to the data\n",
    "data_train['num_all_caps'] = data_train['text'].apply(count_all_caps)\n",
    "data_train['num_caps'] = data_train['text'].apply(count_capitalized)\n",
    "data_train['num_words'] = data_train['text'].apply(count_words)"
   ]
  },
  {
   "cell_type": "code",
   "execution_count": 41,
   "metadata": {
    "colab": {},
    "colab_type": "code",
    "id": "G_Cf2Ci_8pLX"
   },
   "outputs": [],
   "source": [
    "# Create a scaler to set all featuresi to the [-1, 1] range\n",
    "scaler = MinMaxScaler(feature_range=(-1, 1))"
   ]
  },
  {
   "cell_type": "code",
   "execution_count": 42,
   "metadata": {
    "colab": {},
    "colab_type": "code",
    "id": "CpPvYX268z6W"
   },
   "outputs": [],
   "source": [
    "# Apply the scaler\n",
    "columns_to_scale = ['num_all_caps', 'num_caps', 'num_words']\n",
    "scaler.fit(data_train[columns_to_scale])\n",
    "data_train[columns_to_scale] = scaler.transform(data_train[columns_to_scale])"
   ]
  },
  {
   "cell_type": "code",
   "execution_count": 43,
   "metadata": {
    "colab": {},
    "colab_type": "code",
    "id": "D2SNmeje9Gia"
   },
   "outputs": [],
   "source": [
    "# Create sentiment analysis features\n",
    "sentiment_analyze_df(data_train, 'tok_norm_text')"
   ]
  },
  {
   "cell_type": "code",
   "execution_count": 44,
   "metadata": {
    "colab": {
     "base_uri": "https://localhost:8080/",
     "height": 204
    },
    "colab_type": "code",
    "id": "77xOHCxF9PbT",
    "outputId": "bab204fa-1ff8-4123-8757-cc6bb2232840"
   },
   "outputs": [
    {
     "data": {
      "text/html": [
       "<div>\n",
       "<style scoped>\n",
       "    .dataframe tbody tr th:only-of-type {\n",
       "        vertical-align: middle;\n",
       "    }\n",
       "\n",
       "    .dataframe tbody tr th {\n",
       "        vertical-align: top;\n",
       "    }\n",
       "\n",
       "    .dataframe thead th {\n",
       "        text-align: right;\n",
       "    }\n",
       "</style>\n",
       "<table border=\"1\" class=\"dataframe\">\n",
       "  <thead>\n",
       "    <tr style=\"text-align: right;\">\n",
       "      <th></th>\n",
       "      <th>id</th>\n",
       "      <th>keyword</th>\n",
       "      <th>location</th>\n",
       "      <th>text</th>\n",
       "      <th>target</th>\n",
       "      <th>tok_norm_text</th>\n",
       "      <th>num_all_caps</th>\n",
       "      <th>num_caps</th>\n",
       "      <th>num_words</th>\n",
       "      <th>sent_neg</th>\n",
       "      <th>sent_neu</th>\n",
       "      <th>sent_pos</th>\n",
       "      <th>sent_compound</th>\n",
       "    </tr>\n",
       "  </thead>\n",
       "  <tbody>\n",
       "    <tr>\n",
       "      <th>0</th>\n",
       "      <td>1</td>\n",
       "      <td>None</td>\n",
       "      <td>NaN</td>\n",
       "      <td>Our Deeds are the Reason of this #earthquake M...</td>\n",
       "      <td>1</td>\n",
       "      <td>[our, deeds, are, the, reason, of, this, #, ea...</td>\n",
       "      <td>-0.92</td>\n",
       "      <td>-0.565217</td>\n",
       "      <td>-0.200000</td>\n",
       "      <td>0.000</td>\n",
       "      <td>0.851</td>\n",
       "      <td>0.149</td>\n",
       "      <td>0.2732</td>\n",
       "    </tr>\n",
       "    <tr>\n",
       "      <th>1</th>\n",
       "      <td>4</td>\n",
       "      <td>None</td>\n",
       "      <td>NaN</td>\n",
       "      <td>Forest fire near La Ronge Sask. Canada</td>\n",
       "      <td>1</td>\n",
       "      <td>[forest, fire, near, la, ronge, sask, ., canada]</td>\n",
       "      <td>-1.00</td>\n",
       "      <td>-0.565217</td>\n",
       "      <td>-0.600000</td>\n",
       "      <td>0.286</td>\n",
       "      <td>0.714</td>\n",
       "      <td>0.000</td>\n",
       "      <td>-0.3400</td>\n",
       "    </tr>\n",
       "    <tr>\n",
       "      <th>2</th>\n",
       "      <td>5</td>\n",
       "      <td>None</td>\n",
       "      <td>NaN</td>\n",
       "      <td>All residents asked to 'shelter in place' are ...</td>\n",
       "      <td>1</td>\n",
       "      <td>[all, residents, asked, to, ', shelter, in, pl...</td>\n",
       "      <td>-1.00</td>\n",
       "      <td>-0.826087</td>\n",
       "      <td>0.400000</td>\n",
       "      <td>0.095</td>\n",
       "      <td>0.905</td>\n",
       "      <td>0.000</td>\n",
       "      <td>-0.2960</td>\n",
       "    </tr>\n",
       "    <tr>\n",
       "      <th>3</th>\n",
       "      <td>6</td>\n",
       "      <td>None</td>\n",
       "      <td>NaN</td>\n",
       "      <td>13,000 people receive #wildfires evacuation or...</td>\n",
       "      <td>1</td>\n",
       "      <td>[&lt;number&gt;, people, receive, #, wildfires, evac...</td>\n",
       "      <td>-1.00</td>\n",
       "      <td>-0.913043</td>\n",
       "      <td>-0.533333</td>\n",
       "      <td>0.000</td>\n",
       "      <td>1.000</td>\n",
       "      <td>0.000</td>\n",
       "      <td>0.0000</td>\n",
       "    </tr>\n",
       "    <tr>\n",
       "      <th>4</th>\n",
       "      <td>7</td>\n",
       "      <td>None</td>\n",
       "      <td>NaN</td>\n",
       "      <td>Just got sent this photo from Ruby #Alaska as ...</td>\n",
       "      <td>1</td>\n",
       "      <td>[just, got, sent, this, photo, from, ruby, #, ...</td>\n",
       "      <td>-1.00</td>\n",
       "      <td>-0.739130</td>\n",
       "      <td>0.000000</td>\n",
       "      <td>0.000</td>\n",
       "      <td>1.000</td>\n",
       "      <td>0.000</td>\n",
       "      <td>0.0000</td>\n",
       "    </tr>\n",
       "  </tbody>\n",
       "</table>\n",
       "</div>"
      ],
      "text/plain": [
       "   id keyword location  ... sent_neu  sent_pos sent_compound\n",
       "0   1    None      NaN  ...    0.851     0.149        0.2732\n",
       "1   4    None      NaN  ...    0.714     0.000       -0.3400\n",
       "2   5    None      NaN  ...    0.905     0.000       -0.2960\n",
       "3   6    None      NaN  ...    1.000     0.000        0.0000\n",
       "4   7    None      NaN  ...    1.000     0.000        0.0000\n",
       "\n",
       "[5 rows x 13 columns]"
      ]
     },
     "execution_count": 44,
     "metadata": {
      "tags": []
     },
     "output_type": "execute_result"
    }
   ],
   "source": [
    "# Visualize\n",
    "data_train.head()"
   ]
  },
  {
   "cell_type": "code",
   "execution_count": 45,
   "metadata": {
    "colab": {
     "base_uri": "https://localhost:8080/",
     "height": 282
    },
    "colab_type": "code",
    "id": "43H_Bt769RnL",
    "outputId": "c44a5789-4950-42b3-a630-e4d4c5f3f8e3"
   },
   "outputs": [
    {
     "data": {
      "text/plain": [
       "<matplotlib.axes._subplots.AxesSubplot at 0x7ff4deedd828>"
      ]
     },
     "execution_count": 45,
     "metadata": {
      "tags": []
     },
     "output_type": "execute_result"
    },
    {
     "data": {
      "image/png": "[encoded data removed]",
      "text/plain": [
       "<Figure size 432x288 with 1 Axes>"
      ]
     },
     "metadata": {
      "needs_background": "light",
      "tags": []
     },
     "output_type": "display_data"
    }
   ],
   "source": [
    "# Plot\n",
    "sns.distplot([len(tok) for tok in data_train['tok_norm_text']])"
   ]
  },
  {
   "cell_type": "markdown",
   "metadata": {
    "colab_type": "text",
    "id": "Y9RqxgMi-Lj0"
   },
   "source": [
    "Seems like most texts have under 30 words. Therefore a reasonable choice between data loss and computational complexity is to set the maximum sequence length to 30."
   ]
  },
  {
   "cell_type": "markdown",
   "metadata": {
    "colab_type": "text",
    "id": "HZPSHAtL-qmp"
   },
   "source": [
    "## Textual Attributes to Word Embedding Representations"
   ]
  },
  {
   "cell_type": "code",
   "execution_count": 46,
   "metadata": {
    "colab": {},
    "colab_type": "code",
    "id": "68Uc9yha-JYW"
   },
   "outputs": [],
   "source": [
    "# Max sequence length\n",
    "sequence_max_length = 30"
   ]
  },
  {
   "cell_type": "code",
   "execution_count": 47,
   "metadata": {
    "colab": {},
    "colab_type": "code",
    "id": "MoRs7yh4_Ciq"
   },
   "outputs": [],
   "source": [
    "# Generate the text embedding\n",
    "data_train['text_embedding'] = [embedding_preprocess(embedding_model = model_glove_twitter,\n",
    "                                                     use_norm = True,\n",
    "                                                     seq_len = sequence_max_length,\n",
    "                                                     tokenized_text = text) \n",
    "                                for text in data_train['tok_norm_text']]"
   ]
  },
  {
   "cell_type": "code",
   "execution_count": 48,
   "metadata": {
    "colab": {},
    "colab_type": "code",
    "id": "LmucCDVgB6Ha"
   },
   "outputs": [],
   "source": [
    "data_train['keyword_embedding'] = [keyword_to_avg_vector(embedding_model = model_glove_twitter,\n",
    "                                                         use_norm = True,\n",
    "                                                         tokenized_keyword = keyword)\n",
    "                                    for keyword in data_train['keyword']]"
   ]
  },
  {
   "cell_type": "code",
   "execution_count": 49,
   "metadata": {
    "colab": {
     "base_uri": "https://localhost:8080/",
     "height": 289
    },
    "colab_type": "code",
    "id": "Anwvyyrx_rZ3",
    "outputId": "e2f96f15-2d33-430b-e116-343961ee8352"
   },
   "outputs": [
    {
     "data": {
      "text/html": [
       "<div>\n",
       "<style scoped>\n",
       "    .dataframe tbody tr th:only-of-type {\n",
       "        vertical-align: middle;\n",
       "    }\n",
       "\n",
       "    .dataframe tbody tr th {\n",
       "        vertical-align: top;\n",
       "    }\n",
       "\n",
       "    .dataframe thead th {\n",
       "        text-align: right;\n",
       "    }\n",
       "</style>\n",
       "<table border=\"1\" class=\"dataframe\">\n",
       "  <thead>\n",
       "    <tr style=\"text-align: right;\">\n",
       "      <th></th>\n",
       "      <th>id</th>\n",
       "      <th>keyword</th>\n",
       "      <th>location</th>\n",
       "      <th>text</th>\n",
       "      <th>target</th>\n",
       "      <th>tok_norm_text</th>\n",
       "      <th>num_all_caps</th>\n",
       "      <th>num_caps</th>\n",
       "      <th>num_words</th>\n",
       "      <th>sent_neg</th>\n",
       "      <th>sent_neu</th>\n",
       "      <th>sent_pos</th>\n",
       "      <th>sent_compound</th>\n",
       "      <th>text_embedding</th>\n",
       "      <th>keyword_embedding</th>\n",
       "    </tr>\n",
       "  </thead>\n",
       "  <tbody>\n",
       "    <tr>\n",
       "      <th>0</th>\n",
       "      <td>1</td>\n",
       "      <td>None</td>\n",
       "      <td>NaN</td>\n",
       "      <td>Our Deeds are the Reason of this #earthquake M...</td>\n",
       "      <td>1</td>\n",
       "      <td>[our, deeds, are, the, reason, of, this, #, ea...</td>\n",
       "      <td>-0.92</td>\n",
       "      <td>-0.565217</td>\n",
       "      <td>-0.200000</td>\n",
       "      <td>0.000</td>\n",
       "      <td>0.851</td>\n",
       "      <td>0.149</td>\n",
       "      <td>0.2732</td>\n",
       "      <td>[[0.0, 0.0, 0.0, 0.0, 0.0, 0.0, 0.0, 0.0, 0.0,...</td>\n",
       "      <td>[[0.0, 0.0, 0.0, 0.0, 0.0, 0.0, 0.0, 0.0, 0.0,...</td>\n",
       "    </tr>\n",
       "    <tr>\n",
       "      <th>1</th>\n",
       "      <td>4</td>\n",
       "      <td>None</td>\n",
       "      <td>NaN</td>\n",
       "      <td>Forest fire near La Ronge Sask. Canada</td>\n",
       "      <td>1</td>\n",
       "      <td>[forest, fire, near, la, ronge, sask, ., canada]</td>\n",
       "      <td>-1.00</td>\n",
       "      <td>-0.565217</td>\n",
       "      <td>-0.600000</td>\n",
       "      <td>0.286</td>\n",
       "      <td>0.714</td>\n",
       "      <td>0.000</td>\n",
       "      <td>-0.3400</td>\n",
       "      <td>[[0.0, 0.0, 0.0, 0.0, 0.0, 0.0, 0.0, 0.0, 0.0,...</td>\n",
       "      <td>[[0.0, 0.0, 0.0, 0.0, 0.0, 0.0, 0.0, 0.0, 0.0,...</td>\n",
       "    </tr>\n",
       "    <tr>\n",
       "      <th>2</th>\n",
       "      <td>5</td>\n",
       "      <td>None</td>\n",
       "      <td>NaN</td>\n",
       "      <td>All residents asked to 'shelter in place' are ...</td>\n",
       "      <td>1</td>\n",
       "      <td>[all, residents, asked, to, ', shelter, in, pl...</td>\n",
       "      <td>-1.00</td>\n",
       "      <td>-0.826087</td>\n",
       "      <td>0.400000</td>\n",
       "      <td>0.095</td>\n",
       "      <td>0.905</td>\n",
       "      <td>0.000</td>\n",
       "      <td>-0.2960</td>\n",
       "      <td>[[0.0, 0.0, 0.0, 0.0, 0.0, 0.0, 0.0, 0.0, 0.0,...</td>\n",
       "      <td>[[0.0, 0.0, 0.0, 0.0, 0.0, 0.0, 0.0, 0.0, 0.0,...</td>\n",
       "    </tr>\n",
       "    <tr>\n",
       "      <th>3</th>\n",
       "      <td>6</td>\n",
       "      <td>None</td>\n",
       "      <td>NaN</td>\n",
       "      <td>13,000 people receive #wildfires evacuation or...</td>\n",
       "      <td>1</td>\n",
       "      <td>[&lt;number&gt;, people, receive, #, wildfires, evac...</td>\n",
       "      <td>-1.00</td>\n",
       "      <td>-0.913043</td>\n",
       "      <td>-0.533333</td>\n",
       "      <td>0.000</td>\n",
       "      <td>1.000</td>\n",
       "      <td>0.000</td>\n",
       "      <td>0.0000</td>\n",
       "      <td>[[0.0, 0.0, 0.0, 0.0, 0.0, 0.0, 0.0, 0.0, 0.0,...</td>\n",
       "      <td>[[0.0, 0.0, 0.0, 0.0, 0.0, 0.0, 0.0, 0.0, 0.0,...</td>\n",
       "    </tr>\n",
       "    <tr>\n",
       "      <th>4</th>\n",
       "      <td>7</td>\n",
       "      <td>None</td>\n",
       "      <td>NaN</td>\n",
       "      <td>Just got sent this photo from Ruby #Alaska as ...</td>\n",
       "      <td>1</td>\n",
       "      <td>[just, got, sent, this, photo, from, ruby, #, ...</td>\n",
       "      <td>-1.00</td>\n",
       "      <td>-0.739130</td>\n",
       "      <td>0.000000</td>\n",
       "      <td>0.000</td>\n",
       "      <td>1.000</td>\n",
       "      <td>0.000</td>\n",
       "      <td>0.0000</td>\n",
       "      <td>[[0.0, 0.0, 0.0, 0.0, 0.0, 0.0, 0.0, 0.0, 0.0,...</td>\n",
       "      <td>[[0.0, 0.0, 0.0, 0.0, 0.0, 0.0, 0.0, 0.0, 0.0,...</td>\n",
       "    </tr>\n",
       "  </tbody>\n",
       "</table>\n",
       "</div>"
      ],
      "text/plain": [
       "   id  ...                                  keyword_embedding\n",
       "0   1  ...  [[0.0, 0.0, 0.0, 0.0, 0.0, 0.0, 0.0, 0.0, 0.0,...\n",
       "1   4  ...  [[0.0, 0.0, 0.0, 0.0, 0.0, 0.0, 0.0, 0.0, 0.0,...\n",
       "2   5  ...  [[0.0, 0.0, 0.0, 0.0, 0.0, 0.0, 0.0, 0.0, 0.0,...\n",
       "3   6  ...  [[0.0, 0.0, 0.0, 0.0, 0.0, 0.0, 0.0, 0.0, 0.0,...\n",
       "4   7  ...  [[0.0, 0.0, 0.0, 0.0, 0.0, 0.0, 0.0, 0.0, 0.0,...\n",
       "\n",
       "[5 rows x 15 columns]"
      ]
     },
     "execution_count": 49,
     "metadata": {
      "tags": []
     },
     "output_type": "execute_result"
    }
   ],
   "source": [
    "# Visualize\n",
    "data_train.head()"
   ]
  },
  {
   "cell_type": "code",
   "execution_count": 50,
   "metadata": {
    "colab": {
     "base_uri": "https://localhost:8080/",
     "height": 238
    },
    "colab_type": "code",
    "id": "RUrAJaftASTm",
    "outputId": "87f87d02-3673-49c1-cf80-bebf632e2307"
   },
   "outputs": [
    {
     "data": {
      "text/plain": [
       "array([[ 0.00000000e+00,  0.00000000e+00,  0.00000000e+00, ...,\n",
       "         0.00000000e+00,  0.00000000e+00,  0.00000000e+00],\n",
       "       [ 0.00000000e+00,  0.00000000e+00,  0.00000000e+00, ...,\n",
       "         0.00000000e+00,  0.00000000e+00,  0.00000000e+00],\n",
       "       [ 0.00000000e+00,  0.00000000e+00,  0.00000000e+00, ...,\n",
       "         0.00000000e+00,  0.00000000e+00,  0.00000000e+00],\n",
       "       ...,\n",
       "       [ 6.16427232e-03,  3.37593295e-02, -8.35306564e-05, ...,\n",
       "        -1.87020600e-02,  5.86427785e-02,  6.01626709e-02],\n",
       "       [ 5.04050851e-02,  6.07456863e-02, -6.03196025e-02, ...,\n",
       "        -3.67820472e-03,  3.66689712e-02, -5.68437902e-03],\n",
       "       [-6.18075095e-02,  2.37066876e-02, -1.73280034e-02, ...,\n",
       "        -4.81248870e-02,  9.76478979e-02,  2.44460125e-02]])"
      ]
     },
     "execution_count": 50,
     "metadata": {
      "tags": []
     },
     "output_type": "execute_result"
    }
   ],
   "source": [
    "data_train['text_embedding'][0]"
   ]
  },
  {
   "cell_type": "markdown",
   "metadata": {
    "colab_type": "text",
    "id": "v2FGa9CGCphP"
   },
   "source": [
    "## Embedding Representation for All Chosen Features"
   ]
  },
  {
   "cell_type": "markdown",
   "metadata": {
    "colab_type": "text",
    "id": "1wobPuNRFKFf"
   },
   "source": [
    "Creating a vector projection which contains the text embeddings, plus the keyword embeddings, plus the engineered features.\n",
    "\n",
    "The most common approach is to simply embed a text, which dispenses this step, but since here I want to add more things to my GLOVE model, this merging of all features in a single vector is necessary.\n"
   ]
  },
  {
   "cell_type": "markdown",
   "metadata": {
    "colab_type": "text",
    "id": "MGDA1gmQN61N"
   },
   "source": [
    "### Engineered Features"
   ]
  },
  {
   "cell_type": "code",
   "execution_count": 125,
   "metadata": {
    "colab": {},
    "colab_type": "code",
    "id": "5Yc94pjvCUz2"
   },
   "outputs": [],
   "source": [
    "# Function which returns a numpy array containing unique values with length seq_len\n",
    "def _single_values_repeat(seq_len, static_single_values):\n",
    "    \n",
    "    # Create a sequenced array with one position representing each of the engineered features\n",
    "    output = static_single_values.reshape((1, len(static_single_values)))\n",
    "\n",
    "    # Repeat that array seq_len times since the engineered features are the same for all words in a same tweet\n",
    "    output = np.repeat(output, seq_len, axis = 0)\n",
    "    \n",
    "    return output"
   ]
  },
  {
   "cell_type": "code",
   "execution_count": 126,
   "metadata": {
    "colab": {
     "base_uri": "https://localhost:8080/",
     "height": 34
    },
    "colab_type": "code",
    "id": "wmKYVsZKMdDR",
    "outputId": "32d23e92-c639-4aae-9b0b-cfeac13a1e07"
   },
   "outputs": [
    {
     "data": {
      "text/plain": [
       "(7613, 7)"
      ]
     },
     "execution_count": 126,
     "metadata": {
      "tags": []
     },
     "output_type": "execute_result"
    }
   ],
   "source": [
    "static_singles_cols = ['num_all_caps', 'num_caps', 'num_words', 'sent_neg', 'sent_neu', 'sent_pos', 'sent_compound']\n",
    "data_train[static_singles_cols].shape"
   ]
  },
  {
   "cell_type": "code",
   "execution_count": 127,
   "metadata": {
    "colab": {
     "base_uri": "https://localhost:8080/",
     "height": 204
    },
    "colab_type": "code",
    "id": "QHYxl08ZNea_",
    "outputId": "e2cc5cd2-c405-4c81-f45e-ade306ec3944"
   },
   "outputs": [
    {
     "data": {
      "text/html": [
       "<div>\n",
       "<style scoped>\n",
       "    .dataframe tbody tr th:only-of-type {\n",
       "        vertical-align: middle;\n",
       "    }\n",
       "\n",
       "    .dataframe tbody tr th {\n",
       "        vertical-align: top;\n",
       "    }\n",
       "\n",
       "    .dataframe thead th {\n",
       "        text-align: right;\n",
       "    }\n",
       "</style>\n",
       "<table border=\"1\" class=\"dataframe\">\n",
       "  <thead>\n",
       "    <tr style=\"text-align: right;\">\n",
       "      <th></th>\n",
       "      <th>num_all_caps</th>\n",
       "      <th>num_caps</th>\n",
       "      <th>num_words</th>\n",
       "      <th>sent_neg</th>\n",
       "      <th>sent_neu</th>\n",
       "      <th>sent_pos</th>\n",
       "      <th>sent_compound</th>\n",
       "    </tr>\n",
       "  </thead>\n",
       "  <tbody>\n",
       "    <tr>\n",
       "      <th>0</th>\n",
       "      <td>-0.92</td>\n",
       "      <td>-0.565217</td>\n",
       "      <td>-0.200000</td>\n",
       "      <td>0.000</td>\n",
       "      <td>0.851</td>\n",
       "      <td>0.149</td>\n",
       "      <td>0.2732</td>\n",
       "    </tr>\n",
       "    <tr>\n",
       "      <th>1</th>\n",
       "      <td>-1.00</td>\n",
       "      <td>-0.565217</td>\n",
       "      <td>-0.600000</td>\n",
       "      <td>0.286</td>\n",
       "      <td>0.714</td>\n",
       "      <td>0.000</td>\n",
       "      <td>-0.3400</td>\n",
       "    </tr>\n",
       "    <tr>\n",
       "      <th>2</th>\n",
       "      <td>-1.00</td>\n",
       "      <td>-0.826087</td>\n",
       "      <td>0.400000</td>\n",
       "      <td>0.095</td>\n",
       "      <td>0.905</td>\n",
       "      <td>0.000</td>\n",
       "      <td>-0.2960</td>\n",
       "    </tr>\n",
       "    <tr>\n",
       "      <th>3</th>\n",
       "      <td>-1.00</td>\n",
       "      <td>-0.913043</td>\n",
       "      <td>-0.533333</td>\n",
       "      <td>0.000</td>\n",
       "      <td>1.000</td>\n",
       "      <td>0.000</td>\n",
       "      <td>0.0000</td>\n",
       "    </tr>\n",
       "    <tr>\n",
       "      <th>4</th>\n",
       "      <td>-1.00</td>\n",
       "      <td>-0.739130</td>\n",
       "      <td>0.000000</td>\n",
       "      <td>0.000</td>\n",
       "      <td>1.000</td>\n",
       "      <td>0.000</td>\n",
       "      <td>0.0000</td>\n",
       "    </tr>\n",
       "  </tbody>\n",
       "</table>\n",
       "</div>"
      ],
      "text/plain": [
       "   num_all_caps  num_caps  num_words  ...  sent_neu  sent_pos  sent_compound\n",
       "0         -0.92 -0.565217  -0.200000  ...     0.851     0.149         0.2732\n",
       "1         -1.00 -0.565217  -0.600000  ...     0.714     0.000        -0.3400\n",
       "2         -1.00 -0.826087   0.400000  ...     0.905     0.000        -0.2960\n",
       "3         -1.00 -0.913043  -0.533333  ...     1.000     0.000         0.0000\n",
       "4         -1.00 -0.739130   0.000000  ...     1.000     0.000         0.0000\n",
       "\n",
       "[5 rows x 7 columns]"
      ]
     },
     "execution_count": 127,
     "metadata": {
      "tags": []
     },
     "output_type": "execute_result"
    }
   ],
   "source": [
    "data_train[static_singles_cols].head()"
   ]
  },
  {
   "cell_type": "code",
   "execution_count": 135,
   "metadata": {
    "colab": {
     "base_uri": "https://localhost:8080/",
     "height": 34
    },
    "colab_type": "code",
    "id": "uO9QztURJDZ4",
    "outputId": "7c2f2f94-52b4-4761-9dc1-e7605fe5837f"
   },
   "outputs": [
    {
     "data": {
      "text/plain": [
       "(30, 7613)"
      ]
     },
     "execution_count": 135,
     "metadata": {
      "tags": []
     },
     "output_type": "execute_result"
    }
   ],
   "source": [
    "_single_values_repeat(30, data_train['num_all_caps'].values).shape\n",
    "# one for each word position in each sample, with a size of one (7613 * 1) since it's a single feature"
   ]
  },
  {
   "cell_type": "code",
   "execution_count": 104,
   "metadata": {
    "colab": {
     "base_uri": "https://localhost:8080/",
     "height": 136
    },
    "colab_type": "code",
    "id": "zoRVMFyJAv7b",
    "outputId": "35f4b4b2-5419-4413-a4cf-1f588ce98514"
   },
   "outputs": [
    {
     "data": {
      "text/plain": [
       "array([[-0.92, -1.  , -1.  , ..., -0.84, -1.  , -0.92],\n",
       "       [-0.92, -1.  , -1.  , ..., -0.84, -1.  , -0.92],\n",
       "       [-0.92, -1.  , -1.  , ..., -0.84, -1.  , -0.92],\n",
       "       ...,\n",
       "       [-0.92, -1.  , -1.  , ..., -0.84, -1.  , -0.92],\n",
       "       [-0.92, -1.  , -1.  , ..., -0.84, -1.  , -0.92],\n",
       "       [-0.92, -1.  , -1.  , ..., -0.84, -1.  , -0.92]])"
      ]
     },
     "execution_count": 104,
     "metadata": {
      "tags": []
     },
     "output_type": "execute_result"
    }
   ],
   "source": [
    "_single_values_repeat(30, data_train['num_all_caps'].values)"
   ]
  },
  {
   "cell_type": "markdown",
   "metadata": {
    "colab_type": "text",
    "id": "96qhhzvON9BG"
   },
   "source": [
    "### Keyword Embedding"
   ]
  },
  {
   "cell_type": "code",
   "execution_count": 84,
   "metadata": {
    "colab": {
     "base_uri": "https://localhost:8080/",
     "height": 34
    },
    "colab_type": "code",
    "id": "Rj8FNP3KHS7i",
    "outputId": "7d8705f3-7e2d-4753-81b6-2e3738fab94b"
   },
   "outputs": [
    {
     "data": {
      "text/plain": [
       "100"
      ]
     },
     "execution_count": 84,
     "metadata": {
      "tags": []
     },
     "output_type": "execute_result"
    }
   ],
   "source": [
    "# Vector size used by the twitter glove model\n",
    "model_glove_twitter.vector_size"
   ]
  },
  {
   "cell_type": "code",
   "execution_count": 53,
   "metadata": {
    "colab": {},
    "colab_type": "code",
    "id": "SXhpkLHjECZ8"
   },
   "outputs": [],
   "source": [
    "# Return a numpy array of stacked embedding vectors\n",
    "def _static_embedding_repeat(seq_len, static_embedding_values):\n",
    "\n",
    "    # Reshape the keyword embedding by stacking it horizontally\n",
    "    horizontally_stacked = np.hstack(static_embedding_values)\n",
    "\n",
    "    # Repeat that array seq_len times since the keyword is the same for all words in a same tweet\n",
    "    output = np.repeat(horizontally_stacked, seq_len, axis = 0)\n",
    "    return output"
   ]
  },
  {
   "cell_type": "code",
   "execution_count": 103,
   "metadata": {
    "colab": {
     "base_uri": "https://localhost:8080/",
     "height": 34
    },
    "colab_type": "code",
    "id": "5rwxoK3iJVzh",
    "outputId": "f02e58f1-a247-402a-a384-55f4c10b96c1"
   },
   "outputs": [
    {
     "data": {
      "text/plain": [
       "(30, 761300)"
      ]
     },
     "execution_count": 103,
     "metadata": {
      "tags": []
     },
     "output_type": "execute_result"
    }
   ],
   "source": [
    "_static_embedding_repeat(30, data_train['keyword_embedding']).shape\n",
    "# one for each word position in each sample, with a size of a 100 (7613 * 100) since it's a vector using the representation length of model_glove_twitter.vector_size"
   ]
  },
  {
   "cell_type": "code",
   "execution_count": 105,
   "metadata": {
    "colab": {
     "base_uri": "https://localhost:8080/",
     "height": 136
    },
    "colab_type": "code",
    "id": "brd1MO5TBWAx",
    "outputId": "d8e57742-7eda-49a1-ff05-e7af74b42b9d"
   },
   "outputs": [
    {
     "data": {
      "text/plain": [
       "array([[0., 0., 0., ..., 0., 0., 0.],\n",
       "       [0., 0., 0., ..., 0., 0., 0.],\n",
       "       [0., 0., 0., ..., 0., 0., 0.],\n",
       "       ...,\n",
       "       [0., 0., 0., ..., 0., 0., 0.],\n",
       "       [0., 0., 0., ..., 0., 0., 0.],\n",
       "       [0., 0., 0., ..., 0., 0., 0.]])"
      ]
     },
     "execution_count": 105,
     "metadata": {
      "tags": []
     },
     "output_type": "execute_result"
    }
   ],
   "source": [
    "_static_embedding_repeat(30, data_train['keyword_embedding'])"
   ]
  },
  {
   "cell_type": "markdown",
   "metadata": {
    "colab_type": "text",
    "id": "UDgmk0PJOCGg"
   },
   "source": [
    "### Concatenate All"
   ]
  },
  {
   "cell_type": "code",
   "execution_count": 55,
   "metadata": {
    "colab": {},
    "colab_type": "code",
    "id": "F0Avj2u1Eb60"
   },
   "outputs": [],
   "source": [
    "# Function which returns the embedding representations of all features\n",
    "def concatenate_embeddings(df,\n",
    "                           embedding_model,\n",
    "                           seq_len,\n",
    "                           sequence_embedding_col,\n",
    "                           static_embedding_cols,\n",
    "                           static_singles_cols):\n",
    "    \n",
    "    # Embedding dimensions\n",
    "    emb_dim = embedding_model.vector_size\n",
    "\n",
    "    # Output matrix\n",
    "    output = np.zeros((len(df), seq_len, len(static_singles_cols) + len(static_embedding_cols) * emb_dim + emb_dim))\n",
    "\n",
    "    # Loop\n",
    "    for idx, row in df.iterrows():\n",
    "\n",
    "        single_vals = _single_values_repeat(seq_len, row[static_singles_cols].values)\n",
    "        static_emb_vals = _static_embedding_repeat(seq_len, row[static_embedding_cols])\n",
    "        seq_emb_vals = row[sequence_embedding_col]\n",
    "\n",
    "        # Stack embeddings and features for each tweet\n",
    "        # AKA putting together the vectors for all text word embeddings + keyword embeddings + feature engineering embeddings + sentiment score embeddings\n",
    "        row_embedding = np.hstack((single_vals, static_emb_vals, seq_emb_vals))\n",
    "\n",
    "        output[idx, :, :] = row_embedding\n",
    "\n",
    "    return output"
   ]
  },
  {
   "cell_type": "code",
   "execution_count": 56,
   "metadata": {
    "colab": {},
    "colab_type": "code",
    "id": "PtOFzd5yGRZr"
   },
   "outputs": [],
   "source": [
    "# Create a final embedding representation of all features selected for training\n",
    "embedding_matrix = concatenate_embeddings(df = data_train,\n",
    "                                          embedding_model = model_glove_twitter,\n",
    "                                          seq_len = sequence_max_length,\n",
    "                                          sequence_embedding_col = 'text_embedding',\n",
    "                                          static_embedding_cols = ['keyword_embedding'],\n",
    "                                          static_singles_cols = ['num_all_caps',\n",
    "                                                                 'num_caps',\n",
    "                                                                 'num_words',\n",
    "                                                                 'sent_neg',\n",
    "                                                                 'sent_neu',\n",
    "                                                                 'sent_pos',\n",
    "                                                                 'sent_compound'])"
   ]
  },
  {
   "cell_type": "code",
   "execution_count": 92,
   "metadata": {
    "colab": {
     "base_uri": "https://localhost:8080/",
     "height": 34
    },
    "colab_type": "code",
    "id": "LnqOlUD3HInI",
    "outputId": "1c8ee57f-cc96-4d02-888e-cf89a1c8d4e0"
   },
   "outputs": [
    {
     "data": {
      "text/plain": [
       "(7613, 30, 207)"
      ]
     },
     "execution_count": 92,
     "metadata": {
      "tags": []
     },
     "output_type": "execute_result"
    }
   ],
   "source": [
    "# Shape\n",
    "embedding_matrix.shape"
   ]
  },
  {
   "cell_type": "markdown",
   "metadata": {
    "colab_type": "text",
    "id": "O3wq1egIH7hP"
   },
   "source": [
    "The first 7 positions represent the engineered features for that tweet, the next 100 represent the vectorized encoding for the keyword associated with that tweet. Those both are cloned/projected for every word in the tweet. The next 100 positions are the word embeddings for a specific word on a tweet.\n",
    "\n",
    "That is, the fist 107 positions will be identical for all word embedding slots (30 here) of a tweet, and the last 100 will differ, since each is the representation fo a specific word on that tweet."
   ]
  },
  {
   "cell_type": "markdown",
   "metadata": {
    "colab_type": "text",
    "id": "fjtGnUcNH2Db"
   },
   "source": [
    "# Model Construction"
   ]
  },
  {
   "cell_type": "markdown",
   "metadata": {
    "colab_type": "text",
    "id": "3f1O2OGeH43N"
   },
   "source": [
    "PyTorch implementation of a Bidirectional LSTM model"
   ]
  },
  {
   "cell_type": "code",
   "execution_count": 58,
   "metadata": {
    "colab": {},
    "colab_type": "code",
    "id": "0HM9b5yPHSh8"
   },
   "outputs": [],
   "source": [
    "class BiLSTM(nn.Module):\n",
    "\n",
    "    # Constructor Method\n",
    "    def __init__(self, embedding_dim, hidden_dim, num_layers, num_classes, batch_size, dropout, device):\n",
    "        super(BiLSTM, self).__init__()\n",
    "\n",
    "        # Initialize attributes\n",
    "        self.hidden_dim = hidden_dim\n",
    "        self.batch_size = batch_size\n",
    "        self.num_layers = num_layers\n",
    "\n",
    "        # Dropout to reduce overfitting\n",
    "        self.dropout = nn.Dropout(p = dropout)\n",
    "\n",
    "        # LSTM model\n",
    "        self.lstm = nn.LSTM(input_size = embedding_dim,\n",
    "                            hidden_size = hidden_dim,\n",
    "                            num_layers = num_layers,\n",
    "                            batch_first = True,\n",
    "                            dropout = dropout,\n",
    "                            bidirectional = True)\n",
    "        \n",
    "        # Fully connected layer\n",
    "        self.fc = nn.Linear(hidden_dim * 2, num_classes)\n",
    "\n",
    "        # Device\n",
    "        self.device = device\n",
    "\n",
    "        # Lists for evaluations and plots\n",
    "        self.train_loss = []\n",
    "        self.train_acc = []\n",
    "        self.val_loss = []\n",
    "        self.val_acc = []\n",
    "\n",
    "        # Attribute to store the best model weights (used for evaluating)\n",
    "        self.best_weights = deepcopy(self.state_dict())\n",
    "\n",
    "    # Hidden layers and LSTM cells\n",
    "    def _init_hidden(self, current_batch_size):\n",
    "        h0 = torch.zeros(self.num_layers * 2, current_batch_size, self.hidden_dim).to(self.device)\n",
    "        c0 = torch.zeros(self.num_layers * 2, current_batch_size, self.hidden_dim).to(self.device)\n",
    "        return h0, c0\n",
    "\n",
    "    # Forward step\n",
    "    def forward(self, x):\n",
    "\n",
    "        # Forward LSTM\n",
    "        h, c = self._init_hidden(current_batch_size = x.size(0))\n",
    "        out, _ = self.lstm(x, (h, c))\n",
    "\n",
    "        # Dropout\n",
    "        out = self.dropout(out)\n",
    "\n",
    "        # Decode the hidden state for the last time step\n",
    "        out = self.fc(out[:, -1, :])\n",
    "\n",
    "        return out\n",
    "    \n",
    "    # Predictions\n",
    "    def predict(self, x: torch.tensor):\n",
    "        class_predictions = self(x).data\n",
    "        _, predicted = torch.max(class_predictions, dim = 1)\n",
    "        return predicted\n",
    "\n",
    "    # Training and evaluation with validation data\n",
    "    def _train_evaluate(self, X_train, y_train, X_val, y_val, criterion):\n",
    "\n",
    "        # Change the model to evaluation mode\n",
    "        self.eval()\n",
    "\n",
    "        # Calculate accuracy and loss on training data\n",
    "        epoch_train_acc = (self.predict(X_train) == y_train).sum().item() / y_train.shape[0]\n",
    "        epoch_train_loss = criterion(self(X_train), y_train).item()\n",
    "        self.train_acc.append(epoch_train_acc)\n",
    "        self.train_loss.append(epoch_train_loss)\n",
    "\n",
    "        # Calculate accuracyand loss on validation data\n",
    "        if X_val is not None and y_val is not None:\n",
    "            epoch_val_acc = (self.predict(X_val) == y_val).sum().item() / y_val.shape[0]\n",
    "            epoch_val_loss = criterion(self(X_val), y_train).item()\n",
    "            self.val_acc.append(epoch_val_acc)\n",
    "            self.val_loss.append(epoch_val_loss)\n",
    "\n",
    "            # Return the accuracy and loss values\n",
    "            return epoch_train_loss, epoch_train_acc, epoch_val_loss, epoch_val_acc\n",
    "\n",
    "        # Return accuracy and loss values if there is not validation dataset\n",
    "        return epoch_train_loss, epoch_train_acc, None, None\n",
    "\n",
    "    # Return a dictionary with the best epochs\n",
    "    def best_epoch(self):\n",
    "        best_train_loss_epoch = np.argmin(np.array(self.train_loss)) + 1\n",
    "        best_train_acc_epoch = np.argmax(np.array(self.train_acc)) + 1\n",
    "\n",
    "        output = {'Epoch with lowest training loss': best_train_loss_epoch,\n",
    "                  'Epoch with highest training accuracy': best_train_acc_epoch}\n",
    "\n",
    "        if len(self.val_loss) > 0:\n",
    "            best_val_loss_epoch = np.argmin(np.array(self.val_loss))\n",
    "            best_val_acc_epoch = np.argmax(np.array(self.val_acc))\n",
    "\n",
    "            output.update({'Epoch with lowest validation loss': best_val_loss_epoch,\n",
    "                           'Epoch with highest validation accuracy': best_val_acc_epoch})\n",
    "            \n",
    "        return output\n",
    "\n",
    "    # Return a dictionary with the total number of parameters\n",
    "    def get_num_parameters(self):\n",
    "        total_params = sum(p.numel() for p in self.parameters())\n",
    "        trainable_params = sum(p.numel() for p in self.parameters() if p.requires_grad)\n",
    "        return {'total_parameters': total_params, 'trainable_parameters': trainable_params}\n",
    "\n",
    "    @staticmethod\n",
    "    def _print_progress(epoch, train_loss, train_acc, val_loss, val_acc, improved, verbose=False):\n",
    "\n",
    "        output = f'Epoch {str(epoch + 1).zfill(3)}:'\n",
    "        output += f'\\n\\t Training Error: {str(train_loss)[:5]} | Accuracy: {str(train_acc)[:5]}'\n",
    "\n",
    "        if val_loss is not None and val_acc is not None:\n",
    "            output += f'\\n\\t Validation Error: {str(val_loss)}[:5] | Accuracy: {str(val_acc)[:5]}'\n",
    "\n",
    "        if improved:\n",
    "            output += f'\\n\\t The model improved!'\n",
    "\n",
    "        if verbose:\n",
    "            print(output)\n",
    "        \n",
    "    # Training method\n",
    "    def fit(self, X_train, y_train, X_val, y_val, epoch_num, criterion, optimizer, verbose = False):\n",
    "\n",
    "        # Variable to determine if the best weights should be updated (and report progress)\n",
    "        best_acc = 0.0\n",
    "\n",
    "        # Divide the dataset in batches\n",
    "        X_train_tensor_batches = torch.split(X_train, self.batch_size)\n",
    "        y_train_tensor_batches = torch.split(y_train, self.batch_size)\n",
    "\n",
    "        # Loop\n",
    "        for epoch in range(epoch_num):\n",
    "\n",
    "            # Set the model to training mode\n",
    "            # At the end of each epoch the _train_evaluate method is called and sets the model to evaluation mode\n",
    "            self.train()\n",
    "\n",
    "            for i, (X_batch, y_batch) in enumerate(zip(X_train_tensor_batches, y_train_tensor_batches)):\n",
    "\n",
    "                # Forward pass\n",
    "                outputs = self(X_batch)\n",
    "                loss = criterion(outputs, y_batch)\n",
    "\n",
    "                # Backward and optimization\n",
    "                optimizer.zero_grad()\n",
    "                loss.backward()\n",
    "                optimizer.step()\n",
    "\n",
    "            # Calculate accuracy and loss for train and validation\n",
    "            train_loss, train_acc, val_loss, val_acc = self._train_evaluate(X_train, y_train, X_val, y_val, criterion)\n",
    "\n",
    "            # A boolean to determine the correct accuracy to be considered on progress (validation or training)\n",
    "            if X_val is not None and y_val is not None:\n",
    "                accuracy = val_acc\n",
    "            else:\n",
    "                accuracy = train_acc\n",
    "\n",
    "            # If the accuracy improves on the previous best, print it and update the best accuracy records and the model weights\n",
    "            if accuracy > best_acc:\n",
    "                self._print_progress(epoch,\n",
    "                                     train_loss,\n",
    "                                     train_acc,\n",
    "                                     val_loss,\n",
    "                                     val_acc,\n",
    "                                     improved = True,\n",
    "                                     verbose = verbose)\n",
    "                best_acc = accuracy\n",
    "                self.best_weights = deepcopy(self.state_dict())\n",
    "\n",
    "            # Else, just print wihtout updating\n",
    "            else:\n",
    "                self._print_progress(epoch,\n",
    "                                     train_loss,\n",
    "                                     train_acc,\n",
    "                                     val_loss,\n",
    "                                     val_acc,\n",
    "                                     improved = False,\n",
    "                                     verbose = verbose)\n",
    "       \n",
    "        # Gargabe collector, to clean memory        \n",
    "        gc.collect()       "
   ]
  },
  {
   "cell_type": "code",
   "execution_count": 59,
   "metadata": {
    "colab": {},
    "colab_type": "code",
    "id": "RVEQnKE1r7DA"
   },
   "outputs": [],
   "source": [
    "def plot_graphs(model):\n",
    "    plt.figure(figsize = (24, 12))\n",
    "\n",
    "    plt.subplot(311)\n",
    "    plt.title('Accuracy')\n",
    "    plt.xlabel('Epochs')\n",
    "    plt.ylabel('Accuracy')\n",
    "    plt.plot(range(1, len(model.train_acc)+1), model.train_acc, label = 'Train')\n",
    "\n",
    "    plt.xticks(np.arange(0, len(model.train_acc)+1, 5))\n",
    "    plt.legend()\n",
    "\n",
    "    plt.subplot(312)\n",
    "    plt.title('Loss')\n",
    "    plt.xlabel('Epochs')\n",
    "    plt.ylabel('Loss')\n",
    "    plt.plot(range(1, len(model.train_loss)+1), model.train_loss, label = 'Train')\n",
    "    \n",
    "    plt.xticks(np.arange(0, len(model.train_acc)+1, 5))\n",
    "    plt.legend()\n",
    "\n",
    "    plt.tight_layout(pad=0.4, w_pad=0.5, h_pad=1.0)\n",
    "    plt.show()\n"
   ]
  },
  {
   "cell_type": "markdown",
   "metadata": {
    "colab_type": "text",
    "id": "vB3GZVs5thWz"
   },
   "source": [
    "# Training"
   ]
  },
  {
   "cell_type": "code",
   "execution_count": 60,
   "metadata": {
    "colab": {},
    "colab_type": "code",
    "id": "Ckxb45KqtkbZ"
   },
   "outputs": [],
   "source": [
    "# Hyperparameters\n",
    "embedding_dim = embedding_matrix.shape[2]\n",
    "hidden_size = 50\n",
    "num_layers = 2\n",
    "num_classes = 2\n",
    "batch_size = 256\n",
    "dropout = 0.3\n",
    "num_epochs = 300\n",
    "learning_rate = 0.0005\n",
    "weight_decay = 0.0005"
   ]
  },
  {
   "cell_type": "code",
   "execution_count": 61,
   "metadata": {
    "colab": {},
    "colab_type": "code",
    "id": "Py6vqGDLt6as"
   },
   "outputs": [],
   "source": [
    "# Load attributes\n",
    "X_train = torch.from_numpy(embedding_matrix).float().to(device)"
   ]
  },
  {
   "cell_type": "code",
   "execution_count": 62,
   "metadata": {
    "colab": {},
    "colab_type": "code",
    "id": "8AhftxV3uA6y"
   },
   "outputs": [],
   "source": [
    "# Load label\n",
    "y_train = torch.from_numpy(data_train['target'].values).long().to(device)"
   ]
  },
  {
   "cell_type": "code",
   "execution_count": 63,
   "metadata": {
    "colab": {},
    "colab_type": "code",
    "id": "dzXl7FoeuLvN"
   },
   "outputs": [],
   "source": [
    "# Create model\n",
    "model = BiLSTM(embedding_dim, hidden_size, num_layers, num_classes, batch_size, dropout, device).to(device)"
   ]
  },
  {
   "cell_type": "code",
   "execution_count": 64,
   "metadata": {
    "colab": {},
    "colab_type": "code",
    "id": "RkVx_7-1uVHD"
   },
   "outputs": [],
   "source": [
    "# Loss function\n",
    "criterion = nn.CrossEntropyLoss()"
   ]
  },
  {
   "cell_type": "code",
   "execution_count": 65,
   "metadata": {
    "colab": {},
    "colab_type": "code",
    "id": "MIFaS44wuZmB"
   },
   "outputs": [],
   "source": [
    "# Optimizer\n",
    "optimizer = torch.optim.Adam(model.parameters(), lr = learning_rate, weight_decay = weight_decay)"
   ]
  },
  {
   "cell_type": "code",
   "execution_count": 66,
   "metadata": {
    "colab": {
     "base_uri": "https://localhost:8080/",
     "height": 1000
    },
    "colab_type": "code",
    "id": "3ZzqSI_hujqS",
    "outputId": "4027402b-0e45-449b-a6b1-fb29b90321d6"
   },
   "outputs": [
    {
     "name": "stdout",
     "output_type": "stream",
     "text": [
      "CPU times: user 4 µs, sys: 0 ns, total: 4 µs\n",
      "Wall time: 7.39 µs\n",
      "Epoch 001:\n",
      "\t Training Error: 0.674 | Accuracy: 0.570\n",
      "\t The model improved!\n",
      "Epoch 002:\n",
      "\t Training Error: 0.641 | Accuracy: 0.630\n",
      "\t The model improved!\n",
      "Epoch 003:\n",
      "\t Training Error: 0.554 | Accuracy: 0.724\n",
      "\t The model improved!\n",
      "Epoch 004:\n",
      "\t Training Error: 0.513 | Accuracy: 0.752\n",
      "\t The model improved!\n",
      "Epoch 005:\n",
      "\t Training Error: 0.483 | Accuracy: 0.774\n",
      "\t The model improved!\n",
      "Epoch 006:\n",
      "\t Training Error: 0.459 | Accuracy: 0.790\n",
      "\t The model improved!\n",
      "Epoch 007:\n",
      "\t Training Error: 0.441 | Accuracy: 0.802\n",
      "\t The model improved!\n",
      "Epoch 008:\n",
      "\t Training Error: 0.433 | Accuracy: 0.806\n",
      "\t The model improved!\n",
      "Epoch 009:\n",
      "\t Training Error: 0.425 | Accuracy: 0.812\n",
      "\t The model improved!\n",
      "Epoch 010:\n",
      "\t Training Error: 0.419 | Accuracy: 0.814\n",
      "\t The model improved!\n",
      "Epoch 011:\n",
      "\t Training Error: 0.418 | Accuracy: 0.812\n",
      "Epoch 012:\n",
      "\t Training Error: 0.441 | Accuracy: 0.801\n",
      "Epoch 013:\n",
      "\t Training Error: 0.424 | Accuracy: 0.813\n",
      "Epoch 014:\n",
      "\t Training Error: 0.412 | Accuracy: 0.818\n",
      "\t The model improved!\n",
      "Epoch 015:\n",
      "\t Training Error: 0.405 | Accuracy: 0.823\n",
      "\t The model improved!\n",
      "Epoch 016:\n",
      "\t Training Error: 0.404 | Accuracy: 0.825\n",
      "\t The model improved!\n",
      "Epoch 017:\n",
      "\t Training Error: 0.402 | Accuracy: 0.826\n",
      "\t The model improved!\n",
      "Epoch 018:\n",
      "\t Training Error: 0.399 | Accuracy: 0.826\n",
      "Epoch 019:\n",
      "\t Training Error: 0.398 | Accuracy: 0.824\n",
      "Epoch 020:\n",
      "\t Training Error: 0.402 | Accuracy: 0.824\n",
      "Epoch 021:\n",
      "\t Training Error: 0.410 | Accuracy: 0.815\n",
      "Epoch 022:\n",
      "\t Training Error: 0.415 | Accuracy: 0.813\n",
      "Epoch 023:\n",
      "\t Training Error: 0.406 | Accuracy: 0.818\n",
      "Epoch 024:\n",
      "\t Training Error: 0.398 | Accuracy: 0.827\n",
      "\t The model improved!\n",
      "Epoch 025:\n",
      "\t Training Error: 0.433 | Accuracy: 0.803\n",
      "Epoch 026:\n",
      "\t Training Error: 0.404 | Accuracy: 0.827\n",
      "\t The model improved!\n",
      "Epoch 027:\n",
      "\t Training Error: 0.396 | Accuracy: 0.825\n",
      "Epoch 028:\n",
      "\t Training Error: 0.391 | Accuracy: 0.831\n",
      "\t The model improved!\n",
      "Epoch 029:\n",
      "\t Training Error: 0.396 | Accuracy: 0.830\n",
      "Epoch 030:\n",
      "\t Training Error: 0.399 | Accuracy: 0.828\n",
      "Epoch 031:\n",
      "\t Training Error: 0.389 | Accuracy: 0.831\n",
      "Epoch 032:\n",
      "\t Training Error: 0.397 | Accuracy: 0.825\n",
      "Epoch 033:\n",
      "\t Training Error: 0.395 | Accuracy: 0.825\n",
      "Epoch 034:\n",
      "\t Training Error: 0.399 | Accuracy: 0.827\n",
      "Epoch 035:\n",
      "\t Training Error: 0.411 | Accuracy: 0.818\n",
      "Epoch 036:\n",
      "\t Training Error: 0.388 | Accuracy: 0.833\n",
      "\t The model improved!\n",
      "Epoch 037:\n",
      "\t Training Error: 0.388 | Accuracy: 0.830\n",
      "Epoch 038:\n",
      "\t Training Error: 0.387 | Accuracy: 0.833\n",
      "\t The model improved!\n",
      "Epoch 039:\n",
      "\t Training Error: 0.405 | Accuracy: 0.822\n",
      "Epoch 040:\n",
      "\t Training Error: 0.403 | Accuracy: 0.822\n",
      "Epoch 041:\n",
      "\t Training Error: 0.384 | Accuracy: 0.833\n",
      "Epoch 042:\n",
      "\t Training Error: 0.383 | Accuracy: 0.834\n",
      "\t The model improved!\n",
      "Epoch 043:\n",
      "\t Training Error: 0.389 | Accuracy: 0.832\n",
      "Epoch 044:\n",
      "\t Training Error: 0.416 | Accuracy: 0.811\n",
      "Epoch 045:\n",
      "\t Training Error: 0.395 | Accuracy: 0.825\n",
      "Epoch 046:\n",
      "\t Training Error: 0.381 | Accuracy: 0.833\n",
      "Epoch 047:\n",
      "\t Training Error: 0.384 | Accuracy: 0.832\n",
      "Epoch 048:\n",
      "\t Training Error: 0.403 | Accuracy: 0.819\n",
      "Epoch 049:\n",
      "\t Training Error: 0.417 | Accuracy: 0.809\n",
      "Epoch 050:\n",
      "\t Training Error: 0.388 | Accuracy: 0.829\n",
      "Epoch 051:\n",
      "\t Training Error: 0.381 | Accuracy: 0.830\n",
      "Epoch 052:\n",
      "\t Training Error: 0.397 | Accuracy: 0.823\n",
      "Epoch 053:\n",
      "\t Training Error: 0.432 | Accuracy: 0.796\n",
      "Epoch 054:\n",
      "\t Training Error: 0.412 | Accuracy: 0.811\n",
      "Epoch 055:\n",
      "\t Training Error: 0.391 | Accuracy: 0.822\n",
      "Epoch 056:\n",
      "\t Training Error: 0.408 | Accuracy: 0.814\n",
      "Epoch 057:\n",
      "\t Training Error: 0.445 | Accuracy: 0.790\n",
      "Epoch 058:\n",
      "\t Training Error: 0.416 | Accuracy: 0.809\n",
      "Epoch 059:\n",
      "\t Training Error: 0.413 | Accuracy: 0.812\n",
      "Epoch 060:\n",
      "\t Training Error: 0.450 | Accuracy: 0.794\n",
      "Epoch 061:\n",
      "\t Training Error: 0.453 | Accuracy: 0.795\n",
      "Epoch 062:\n",
      "\t Training Error: 0.434 | Accuracy: 0.803\n",
      "Epoch 063:\n",
      "\t Training Error: 0.426 | Accuracy: 0.806\n",
      "Epoch 064:\n",
      "\t Training Error: 0.436 | Accuracy: 0.793\n",
      "Epoch 065:\n",
      "\t Training Error: 0.433 | Accuracy: 0.791\n",
      "Epoch 066:\n",
      "\t Training Error: 0.409 | Accuracy: 0.808\n",
      "Epoch 067:\n",
      "\t Training Error: 0.408 | Accuracy: 0.809\n",
      "Epoch 068:\n",
      "\t Training Error: 0.421 | Accuracy: 0.799\n",
      "Epoch 069:\n",
      "\t Training Error: 0.397 | Accuracy: 0.819\n",
      "Epoch 070:\n",
      "\t Training Error: 0.386 | Accuracy: 0.828\n",
      "Epoch 071:\n",
      "\t Training Error: 0.373 | Accuracy: 0.834\n",
      "\t The model improved!\n",
      "Epoch 072:\n",
      "\t Training Error: 0.367 | Accuracy: 0.839\n",
      "\t The model improved!\n",
      "Epoch 073:\n",
      "\t Training Error: 0.366 | Accuracy: 0.840\n",
      "\t The model improved!\n",
      "Epoch 074:\n",
      "\t Training Error: 0.368 | Accuracy: 0.841\n",
      "\t The model improved!\n",
      "Epoch 075:\n",
      "\t Training Error: 0.369 | Accuracy: 0.841\n",
      "\t The model improved!\n",
      "Epoch 076:\n",
      "\t Training Error: 0.373 | Accuracy: 0.837\n",
      "Epoch 077:\n",
      "\t Training Error: 0.376 | Accuracy: 0.835\n",
      "Epoch 078:\n",
      "\t Training Error: 0.375 | Accuracy: 0.835\n",
      "Epoch 079:\n",
      "\t Training Error: 0.378 | Accuracy: 0.832\n",
      "Epoch 080:\n",
      "\t Training Error: 0.370 | Accuracy: 0.839\n",
      "Epoch 081:\n",
      "\t Training Error: 0.372 | Accuracy: 0.838\n",
      "Epoch 082:\n",
      "\t Training Error: 0.366 | Accuracy: 0.841\n",
      "\t The model improved!\n",
      "Epoch 083:\n",
      "\t Training Error: 0.357 | Accuracy: 0.844\n",
      "\t The model improved!\n",
      "Epoch 084:\n",
      "\t Training Error: 0.350 | Accuracy: 0.851\n",
      "\t The model improved!\n",
      "Epoch 085:\n",
      "\t Training Error: 0.363 | Accuracy: 0.840\n",
      "Epoch 086:\n",
      "\t Training Error: 0.344 | Accuracy: 0.851\n",
      "Epoch 087:\n",
      "\t Training Error: 0.347 | Accuracy: 0.849\n",
      "Epoch 088:\n",
      "\t Training Error: 0.345 | Accuracy: 0.848\n",
      "Epoch 089:\n",
      "\t Training Error: 0.335 | Accuracy: 0.854\n",
      "\t The model improved!\n",
      "Epoch 090:\n",
      "\t Training Error: 0.336 | Accuracy: 0.852\n",
      "Epoch 091:\n",
      "\t Training Error: 0.338 | Accuracy: 0.853\n",
      "Epoch 092:\n",
      "\t Training Error: 0.335 | Accuracy: 0.854\n",
      "Epoch 093:\n",
      "\t Training Error: 0.340 | Accuracy: 0.852\n",
      "Epoch 094:\n",
      "\t Training Error: 0.337 | Accuracy: 0.855\n",
      "\t The model improved!\n",
      "Epoch 095:\n",
      "\t Training Error: 0.338 | Accuracy: 0.853\n",
      "Epoch 096:\n",
      "\t Training Error: 0.354 | Accuracy: 0.844\n",
      "Epoch 097:\n",
      "\t Training Error: 0.377 | Accuracy: 0.825\n",
      "Epoch 098:\n",
      "\t Training Error: 0.340 | Accuracy: 0.852\n",
      "Epoch 099:\n",
      "\t Training Error: 0.357 | Accuracy: 0.846\n",
      "Epoch 100:\n",
      "\t Training Error: 0.354 | Accuracy: 0.846\n",
      "Epoch 101:\n",
      "\t Training Error: 0.362 | Accuracy: 0.843\n",
      "Epoch 102:\n",
      "\t Training Error: 0.349 | Accuracy: 0.845\n",
      "Epoch 103:\n",
      "\t Training Error: 0.344 | Accuracy: 0.846\n",
      "Epoch 104:\n",
      "\t Training Error: 0.352 | Accuracy: 0.844\n",
      "Epoch 105:\n",
      "\t Training Error: 0.348 | Accuracy: 0.846\n",
      "Epoch 106:\n",
      "\t Training Error: 0.385 | Accuracy: 0.826\n",
      "Epoch 107:\n",
      "\t Training Error: 0.367 | Accuracy: 0.834\n",
      "Epoch 108:\n",
      "\t Training Error: 0.345 | Accuracy: 0.845\n",
      "Epoch 109:\n",
      "\t Training Error: 0.333 | Accuracy: 0.855\n",
      "Epoch 110:\n",
      "\t Training Error: 0.327 | Accuracy: 0.858\n",
      "\t The model improved!\n",
      "Epoch 111:\n",
      "\t Training Error: 0.322 | Accuracy: 0.859\n",
      "\t The model improved!\n",
      "Epoch 112:\n",
      "\t Training Error: 0.323 | Accuracy: 0.862\n",
      "\t The model improved!\n",
      "Epoch 113:\n",
      "\t Training Error: 0.329 | Accuracy: 0.858\n",
      "Epoch 114:\n",
      "\t Training Error: 0.321 | Accuracy: 0.861\n",
      "Epoch 115:\n",
      "\t Training Error: 0.316 | Accuracy: 0.862\n",
      "\t The model improved!\n",
      "Epoch 116:\n",
      "\t Training Error: 0.317 | Accuracy: 0.862\n",
      "Epoch 117:\n",
      "\t Training Error: 0.332 | Accuracy: 0.857\n",
      "Epoch 118:\n",
      "\t Training Error: 0.330 | Accuracy: 0.858\n",
      "Epoch 119:\n",
      "\t Training Error: 0.358 | Accuracy: 0.843\n",
      "Epoch 120:\n",
      "\t Training Error: 0.391 | Accuracy: 0.829\n",
      "Epoch 121:\n",
      "\t Training Error: 0.364 | Accuracy: 0.839\n",
      "Epoch 122:\n",
      "\t Training Error: 0.368 | Accuracy: 0.841\n",
      "Epoch 123:\n",
      "\t Training Error: 0.372 | Accuracy: 0.834\n",
      "Epoch 124:\n",
      "\t Training Error: 0.356 | Accuracy: 0.842\n",
      "Epoch 125:\n",
      "\t Training Error: 0.337 | Accuracy: 0.850\n",
      "Epoch 126:\n",
      "\t Training Error: 0.329 | Accuracy: 0.859\n",
      "Epoch 127:\n",
      "\t Training Error: 0.321 | Accuracy: 0.865\n",
      "\t The model improved!\n",
      "Epoch 128:\n",
      "\t Training Error: 0.313 | Accuracy: 0.867\n",
      "\t The model improved!\n",
      "Epoch 129:\n",
      "\t Training Error: 0.323 | Accuracy: 0.857\n",
      "Epoch 130:\n",
      "\t Training Error: 0.323 | Accuracy: 0.855\n",
      "Epoch 131:\n",
      "\t Training Error: 0.319 | Accuracy: 0.858\n",
      "Epoch 132:\n",
      "\t Training Error: 0.320 | Accuracy: 0.858\n",
      "Epoch 133:\n",
      "\t Training Error: 0.332 | Accuracy: 0.852\n",
      "Epoch 134:\n",
      "\t Training Error: 0.316 | Accuracy: 0.858\n",
      "Epoch 135:\n",
      "\t Training Error: 0.328 | Accuracy: 0.853\n",
      "Epoch 136:\n",
      "\t Training Error: 0.290 | Accuracy: 0.873\n",
      "\t The model improved!\n",
      "Epoch 137:\n",
      "\t Training Error: 0.310 | Accuracy: 0.866\n",
      "Epoch 138:\n",
      "\t Training Error: 0.290 | Accuracy: 0.874\n",
      "\t The model improved!\n",
      "Epoch 139:\n",
      "\t Training Error: 0.279 | Accuracy: 0.880\n",
      "\t The model improved!\n",
      "Epoch 140:\n",
      "\t Training Error: 0.278 | Accuracy: 0.880\n",
      "Epoch 141:\n",
      "\t Training Error: 0.283 | Accuracy: 0.880\n",
      "Epoch 142:\n",
      "\t Training Error: 0.289 | Accuracy: 0.874\n",
      "Epoch 143:\n",
      "\t Training Error: 0.279 | Accuracy: 0.881\n",
      "\t The model improved!\n",
      "Epoch 144:\n",
      "\t Training Error: 0.272 | Accuracy: 0.882\n",
      "\t The model improved!\n",
      "Epoch 145:\n",
      "\t Training Error: 0.279 | Accuracy: 0.879\n",
      "Epoch 146:\n",
      "\t Training Error: 0.285 | Accuracy: 0.877\n",
      "Epoch 147:\n",
      "\t Training Error: 0.281 | Accuracy: 0.882\n",
      "\t The model improved!\n",
      "Epoch 148:\n",
      "\t Training Error: 0.269 | Accuracy: 0.884\n",
      "\t The model improved!\n",
      "Epoch 149:\n",
      "\t Training Error: 0.282 | Accuracy: 0.879\n",
      "Epoch 150:\n",
      "\t Training Error: 0.287 | Accuracy: 0.874\n",
      "Epoch 151:\n",
      "\t Training Error: 0.274 | Accuracy: 0.882\n",
      "Epoch 152:\n",
      "\t Training Error: 0.265 | Accuracy: 0.883\n",
      "Epoch 153:\n",
      "\t Training Error: 0.257 | Accuracy: 0.890\n",
      "\t The model improved!\n",
      "Epoch 154:\n",
      "\t Training Error: 0.254 | Accuracy: 0.890\n",
      "\t The model improved!\n",
      "Epoch 155:\n",
      "\t Training Error: 0.254 | Accuracy: 0.887\n",
      "Epoch 156:\n",
      "\t Training Error: 0.253 | Accuracy: 0.892\n",
      "\t The model improved!\n",
      "Epoch 157:\n",
      "\t Training Error: 0.249 | Accuracy: 0.892\n",
      "\t The model improved!\n",
      "Epoch 158:\n",
      "\t Training Error: 0.256 | Accuracy: 0.889\n",
      "Epoch 159:\n",
      "\t Training Error: 0.270 | Accuracy: 0.882\n",
      "Epoch 160:\n",
      "\t Training Error: 0.272 | Accuracy: 0.884\n",
      "Epoch 161:\n",
      "\t Training Error: 0.252 | Accuracy: 0.893\n",
      "\t The model improved!\n",
      "Epoch 162:\n",
      "\t Training Error: 0.257 | Accuracy: 0.888\n",
      "Epoch 163:\n",
      "\t Training Error: 0.254 | Accuracy: 0.892\n",
      "Epoch 164:\n",
      "\t Training Error: 0.259 | Accuracy: 0.890\n",
      "Epoch 165:\n",
      "\t Training Error: 0.264 | Accuracy: 0.888\n",
      "Epoch 166:\n",
      "\t Training Error: 0.267 | Accuracy: 0.889\n",
      "Epoch 167:\n",
      "\t Training Error: 0.273 | Accuracy: 0.885\n",
      "Epoch 168:\n",
      "\t Training Error: 0.278 | Accuracy: 0.882\n",
      "Epoch 169:\n",
      "\t Training Error: 0.251 | Accuracy: 0.891\n",
      "Epoch 170:\n",
      "\t Training Error: 0.240 | Accuracy: 0.897\n",
      "\t The model improved!\n",
      "Epoch 171:\n",
      "\t Training Error: 0.256 | Accuracy: 0.892\n",
      "Epoch 172:\n",
      "\t Training Error: 0.239 | Accuracy: 0.899\n",
      "\t The model improved!\n",
      "Epoch 173:\n",
      "\t Training Error: 0.247 | Accuracy: 0.892\n",
      "Epoch 174:\n",
      "\t Training Error: 0.238 | Accuracy: 0.898\n",
      "Epoch 175:\n",
      "\t Training Error: 0.240 | Accuracy: 0.893\n",
      "Epoch 176:\n",
      "\t Training Error: 0.245 | Accuracy: 0.892\n",
      "Epoch 177:\n",
      "\t Training Error: 0.244 | Accuracy: 0.893\n",
      "Epoch 178:\n",
      "\t Training Error: 0.225 | Accuracy: 0.900\n",
      "\t The model improved!\n",
      "Epoch 179:\n",
      "\t Training Error: 0.225 | Accuracy: 0.902\n",
      "\t The model improved!\n",
      "Epoch 180:\n",
      "\t Training Error: 0.260 | Accuracy: 0.884\n",
      "Epoch 181:\n",
      "\t Training Error: 0.251 | Accuracy: 0.888\n",
      "Epoch 182:\n",
      "\t Training Error: 0.230 | Accuracy: 0.900\n",
      "Epoch 183:\n",
      "\t Training Error: 0.239 | Accuracy: 0.897\n",
      "Epoch 184:\n",
      "\t Training Error: 0.251 | Accuracy: 0.892\n",
      "Epoch 185:\n",
      "\t Training Error: 0.232 | Accuracy: 0.903\n",
      "\t The model improved!\n",
      "Epoch 186:\n",
      "\t Training Error: 0.226 | Accuracy: 0.903\n",
      "Epoch 187:\n",
      "\t Training Error: 0.227 | Accuracy: 0.902\n",
      "Epoch 188:\n",
      "\t Training Error: 0.222 | Accuracy: 0.906\n",
      "\t The model improved!\n",
      "Epoch 189:\n",
      "\t Training Error: 0.227 | Accuracy: 0.905\n",
      "Epoch 190:\n",
      "\t Training Error: 0.224 | Accuracy: 0.905\n",
      "Epoch 191:\n",
      "\t Training Error: 0.221 | Accuracy: 0.908\n",
      "\t The model improved!\n",
      "Epoch 192:\n",
      "\t Training Error: 0.219 | Accuracy: 0.903\n",
      "Epoch 193:\n",
      "\t Training Error: 0.227 | Accuracy: 0.902\n",
      "Epoch 194:\n",
      "\t Training Error: 0.213 | Accuracy: 0.908\n",
      "Epoch 195:\n",
      "\t Training Error: 0.224 | Accuracy: 0.903\n",
      "Epoch 196:\n",
      "\t Training Error: 0.213 | Accuracy: 0.910\n",
      "\t The model improved!\n",
      "Epoch 197:\n",
      "\t Training Error: 0.214 | Accuracy: 0.908\n",
      "Epoch 198:\n",
      "\t Training Error: 0.231 | Accuracy: 0.900\n",
      "Epoch 199:\n",
      "\t Training Error: 0.215 | Accuracy: 0.907\n",
      "Epoch 200:\n",
      "\t Training Error: 0.218 | Accuracy: 0.907\n",
      "Epoch 201:\n",
      "\t Training Error: 0.209 | Accuracy: 0.912\n",
      "\t The model improved!\n",
      "Epoch 202:\n",
      "\t Training Error: 0.241 | Accuracy: 0.892\n",
      "Epoch 203:\n",
      "\t Training Error: 0.249 | Accuracy: 0.890\n",
      "Epoch 204:\n",
      "\t Training Error: 0.234 | Accuracy: 0.897\n",
      "Epoch 205:\n",
      "\t Training Error: 0.220 | Accuracy: 0.905\n",
      "Epoch 206:\n",
      "\t Training Error: 0.272 | Accuracy: 0.891\n",
      "Epoch 207:\n",
      "\t Training Error: 0.356 | Accuracy: 0.861\n",
      "Epoch 208:\n",
      "\t Training Error: 0.324 | Accuracy: 0.882\n",
      "Epoch 209:\n",
      "\t Training Error: 0.291 | Accuracy: 0.883\n",
      "Epoch 210:\n",
      "\t Training Error: 0.304 | Accuracy: 0.870\n",
      "Epoch 211:\n",
      "\t Training Error: 0.251 | Accuracy: 0.889\n",
      "Epoch 212:\n",
      "\t Training Error: 0.229 | Accuracy: 0.898\n",
      "Epoch 213:\n",
      "\t Training Error: 0.219 | Accuracy: 0.906\n",
      "Epoch 214:\n",
      "\t Training Error: 0.234 | Accuracy: 0.899\n",
      "Epoch 215:\n",
      "\t Training Error: 0.265 | Accuracy: 0.886\n",
      "Epoch 216:\n",
      "\t Training Error: 0.304 | Accuracy: 0.868\n",
      "Epoch 217:\n",
      "\t Training Error: 0.291 | Accuracy: 0.876\n",
      "Epoch 218:\n",
      "\t Training Error: 0.225 | Accuracy: 0.908\n",
      "Epoch 219:\n",
      "\t Training Error: 0.193 | Accuracy: 0.921\n",
      "\t The model improved!\n",
      "Epoch 220:\n",
      "\t Training Error: 0.183 | Accuracy: 0.927\n",
      "\t The model improved!\n",
      "Epoch 221:\n",
      "\t Training Error: 0.169 | Accuracy: 0.930\n",
      "\t The model improved!\n",
      "Epoch 222:\n",
      "\t Training Error: 0.164 | Accuracy: 0.931\n",
      "\t The model improved!\n",
      "Epoch 223:\n",
      "\t Training Error: 0.184 | Accuracy: 0.923\n",
      "Epoch 224:\n",
      "\t Training Error: 0.203 | Accuracy: 0.916\n",
      "Epoch 225:\n",
      "\t Training Error: 0.221 | Accuracy: 0.906\n",
      "Epoch 226:\n",
      "\t Training Error: 0.183 | Accuracy: 0.926\n",
      "Epoch 227:\n",
      "\t Training Error: 0.167 | Accuracy: 0.931\n",
      "\t The model improved!\n",
      "Epoch 228:\n",
      "\t Training Error: 0.180 | Accuracy: 0.924\n",
      "Epoch 229:\n",
      "\t Training Error: 0.183 | Accuracy: 0.924\n",
      "Epoch 230:\n",
      "\t Training Error: 0.161 | Accuracy: 0.938\n",
      "\t The model improved!\n",
      "Epoch 231:\n",
      "\t Training Error: 0.171 | Accuracy: 0.929\n",
      "Epoch 232:\n",
      "\t Training Error: 0.161 | Accuracy: 0.936\n",
      "Epoch 233:\n",
      "\t Training Error: 0.165 | Accuracy: 0.936\n",
      "Epoch 234:\n",
      "\t Training Error: 0.153 | Accuracy: 0.936\n",
      "Epoch 235:\n",
      "\t Training Error: 0.159 | Accuracy: 0.935\n",
      "Epoch 236:\n",
      "\t Training Error: 0.136 | Accuracy: 0.945\n",
      "\t The model improved!\n",
      "Epoch 237:\n",
      "\t Training Error: 0.127 | Accuracy: 0.949\n",
      "\t The model improved!\n",
      "Epoch 238:\n",
      "\t Training Error: 0.154 | Accuracy: 0.941\n",
      "Epoch 239:\n",
      "\t Training Error: 0.167 | Accuracy: 0.930\n",
      "Epoch 240:\n",
      "\t Training Error: 0.181 | Accuracy: 0.927\n",
      "Epoch 241:\n",
      "\t Training Error: 0.161 | Accuracy: 0.939\n",
      "Epoch 242:\n",
      "\t Training Error: 0.152 | Accuracy: 0.942\n",
      "Epoch 243:\n",
      "\t Training Error: 0.144 | Accuracy: 0.943\n",
      "Epoch 244:\n",
      "\t Training Error: 0.133 | Accuracy: 0.949\n",
      "\t The model improved!\n",
      "Epoch 245:\n",
      "\t Training Error: 0.152 | Accuracy: 0.943\n",
      "Epoch 246:\n",
      "\t Training Error: 0.220 | Accuracy: 0.912\n",
      "Epoch 247:\n",
      "\t Training Error: 0.196 | Accuracy: 0.923\n",
      "Epoch 248:\n",
      "\t Training Error: 0.204 | Accuracy: 0.914\n",
      "Epoch 249:\n",
      "\t Training Error: 0.185 | Accuracy: 0.922\n",
      "Epoch 250:\n",
      "\t Training Error: 0.178 | Accuracy: 0.925\n",
      "Epoch 251:\n",
      "\t Training Error: 0.132 | Accuracy: 0.948\n",
      "Epoch 252:\n",
      "\t Training Error: 0.125 | Accuracy: 0.952\n",
      "\t The model improved!\n",
      "Epoch 253:\n",
      "\t Training Error: 0.128 | Accuracy: 0.949\n",
      "Epoch 254:\n",
      "\t Training Error: 0.127 | Accuracy: 0.948\n",
      "Epoch 255:\n",
      "\t Training Error: 0.129 | Accuracy: 0.948\n",
      "Epoch 256:\n",
      "\t Training Error: 0.139 | Accuracy: 0.946\n",
      "Epoch 257:\n",
      "\t Training Error: 0.141 | Accuracy: 0.947\n",
      "Epoch 258:\n",
      "\t Training Error: 0.132 | Accuracy: 0.950\n",
      "Epoch 259:\n",
      "\t Training Error: 0.134 | Accuracy: 0.945\n",
      "Epoch 260:\n",
      "\t Training Error: 0.181 | Accuracy: 0.923\n",
      "Epoch 261:\n",
      "\t Training Error: 0.111 | Accuracy: 0.955\n",
      "\t The model improved!\n",
      "Epoch 262:\n",
      "\t Training Error: 0.133 | Accuracy: 0.946\n",
      "Epoch 263:\n",
      "\t Training Error: 0.136 | Accuracy: 0.945\n",
      "Epoch 264:\n",
      "\t Training Error: 0.136 | Accuracy: 0.948\n",
      "Epoch 265:\n",
      "\t Training Error: 0.134 | Accuracy: 0.947\n",
      "Epoch 266:\n",
      "\t Training Error: 0.152 | Accuracy: 0.941\n",
      "Epoch 267:\n",
      "\t Training Error: 0.156 | Accuracy: 0.940\n",
      "Epoch 268:\n",
      "\t Training Error: 0.151 | Accuracy: 0.940\n",
      "Epoch 269:\n",
      "\t Training Error: 0.185 | Accuracy: 0.925\n",
      "Epoch 270:\n",
      "\t Training Error: 0.211 | Accuracy: 0.912\n",
      "Epoch 271:\n",
      "\t Training Error: 0.144 | Accuracy: 0.939\n",
      "Epoch 272:\n",
      "\t Training Error: 0.140 | Accuracy: 0.944\n",
      "Epoch 273:\n",
      "\t Training Error: 0.110 | Accuracy: 0.956\n",
      "\t The model improved!\n",
      "Epoch 274:\n",
      "\t Training Error: 0.108 | Accuracy: 0.957\n",
      "\t The model improved!\n",
      "Epoch 275:\n",
      "\t Training Error: 0.128 | Accuracy: 0.948\n",
      "Epoch 276:\n",
      "\t Training Error: 0.113 | Accuracy: 0.956\n",
      "Epoch 277:\n",
      "\t Training Error: 0.117 | Accuracy: 0.955\n",
      "Epoch 278:\n",
      "\t Training Error: 0.134 | Accuracy: 0.947\n",
      "Epoch 279:\n",
      "\t Training Error: 0.098 | Accuracy: 0.963\n",
      "\t The model improved!\n",
      "Epoch 280:\n",
      "\t Training Error: 0.109 | Accuracy: 0.956\n",
      "Epoch 281:\n",
      "\t Training Error: 0.127 | Accuracy: 0.949\n",
      "Epoch 282:\n",
      "\t Training Error: 0.129 | Accuracy: 0.948\n",
      "Epoch 283:\n",
      "\t Training Error: 0.096 | Accuracy: 0.963\n",
      "Epoch 284:\n",
      "\t Training Error: 0.094 | Accuracy: 0.964\n",
      "\t The model improved!\n",
      "Epoch 285:\n",
      "\t Training Error: 0.088 | Accuracy: 0.966\n",
      "\t The model improved!\n",
      "Epoch 286:\n",
      "\t Training Error: 0.112 | Accuracy: 0.958\n",
      "Epoch 287:\n",
      "\t Training Error: 0.128 | Accuracy: 0.954\n",
      "Epoch 288:\n",
      "\t Training Error: 0.121 | Accuracy: 0.951\n",
      "Epoch 289:\n",
      "\t Training Error: 0.096 | Accuracy: 0.963\n",
      "Epoch 290:\n",
      "\t Training Error: 0.090 | Accuracy: 0.967\n",
      "\t The model improved!\n",
      "Epoch 291:\n",
      "\t Training Error: 0.100 | Accuracy: 0.962\n",
      "Epoch 292:\n",
      "\t Training Error: 0.118 | Accuracy: 0.954\n",
      "Epoch 293:\n",
      "\t Training Error: 0.122 | Accuracy: 0.953\n",
      "Epoch 294:\n",
      "\t Training Error: 0.085 | Accuracy: 0.966\n",
      "Epoch 295:\n",
      "\t Training Error: 0.108 | Accuracy: 0.957\n",
      "Epoch 296:\n",
      "\t Training Error: 0.110 | Accuracy: 0.958\n",
      "Epoch 297:\n",
      "\t Training Error: 0.107 | Accuracy: 0.960\n",
      "Epoch 298:\n",
      "\t Training Error: 0.107 | Accuracy: 0.957\n",
      "Epoch 299:\n",
      "\t Training Error: 0.106 | Accuracy: 0.959\n",
      "Epoch 300:\n",
      "\t Training Error: 0.118 | Accuracy: 0.958\n"
     ]
    }
   ],
   "source": [
    "%time\n",
    "# Train\n",
    "model.fit(X_train = X_train,\n",
    "          y_train = y_train,\n",
    "          X_val = None,\n",
    "          y_val = None,\n",
    "          epoch_num = num_epochs,\n",
    "          criterion = criterion,\n",
    "          optimizer = optimizer,\n",
    "          verbose = True)"
   ]
  },
  {
   "cell_type": "code",
   "execution_count": 67,
   "metadata": {
    "colab": {
     "base_uri": "https://localhost:8080/",
     "height": 619
    },
    "colab_type": "code",
    "id": "tqtiho6vvU1J",
    "outputId": "62d947b8-8d05-4d26-dd01-820ed8617ad3"
   },
   "outputs": [
    {
     "data": {
      "image/png": "[encoded data removed]",
      "text/plain": [
       "<Figure size 1728x864 with 2 Axes>"
      ]
     },
     "metadata": {
      "needs_background": "light",
      "tags": []
     },
     "output_type": "display_data"
    }
   ],
   "source": [
    "# Plot\n",
    "plot_graphs(model)"
   ]
  },
  {
   "cell_type": "markdown",
   "metadata": {
    "colab_type": "text",
    "id": "_quUaN8wwLAQ"
   },
   "source": [
    "# Predicting"
   ]
  },
  {
   "cell_type": "markdown",
   "metadata": {
    "colab_type": "text",
    "id": "Ie1OmtjJwN20"
   },
   "source": [
    "Appling the same preprocessing pipeline to the test dataset"
   ]
  },
  {
   "cell_type": "code",
   "execution_count": 68,
   "metadata": {
    "colab": {
     "base_uri": "https://localhost:8080/",
     "height": 204
    },
    "colab_type": "code",
    "id": "o2Y4utKhvjO0",
    "outputId": "9383bef4-4478-42dd-8ecf-578d3d947e5d"
   },
   "outputs": [
    {
     "data": {
      "text/html": [
       "<div>\n",
       "<style scoped>\n",
       "    .dataframe tbody tr th:only-of-type {\n",
       "        vertical-align: middle;\n",
       "    }\n",
       "\n",
       "    .dataframe tbody tr th {\n",
       "        vertical-align: top;\n",
       "    }\n",
       "\n",
       "    .dataframe thead th {\n",
       "        text-align: right;\n",
       "    }\n",
       "</style>\n",
       "<table border=\"1\" class=\"dataframe\">\n",
       "  <thead>\n",
       "    <tr style=\"text-align: right;\">\n",
       "      <th></th>\n",
       "      <th>id</th>\n",
       "      <th>keyword</th>\n",
       "      <th>location</th>\n",
       "      <th>text</th>\n",
       "    </tr>\n",
       "  </thead>\n",
       "  <tbody>\n",
       "    <tr>\n",
       "      <th>0</th>\n",
       "      <td>0</td>\n",
       "      <td>NaN</td>\n",
       "      <td>NaN</td>\n",
       "      <td>Just happened a terrible car crash</td>\n",
       "    </tr>\n",
       "    <tr>\n",
       "      <th>1</th>\n",
       "      <td>2</td>\n",
       "      <td>NaN</td>\n",
       "      <td>NaN</td>\n",
       "      <td>Heard about #earthquake is different cities, s...</td>\n",
       "    </tr>\n",
       "    <tr>\n",
       "      <th>2</th>\n",
       "      <td>3</td>\n",
       "      <td>NaN</td>\n",
       "      <td>NaN</td>\n",
       "      <td>there is a forest fire at spot pond, geese are...</td>\n",
       "    </tr>\n",
       "    <tr>\n",
       "      <th>3</th>\n",
       "      <td>9</td>\n",
       "      <td>NaN</td>\n",
       "      <td>NaN</td>\n",
       "      <td>Apocalypse lighting. #Spokane #wildfires</td>\n",
       "    </tr>\n",
       "    <tr>\n",
       "      <th>4</th>\n",
       "      <td>11</td>\n",
       "      <td>NaN</td>\n",
       "      <td>NaN</td>\n",
       "      <td>Typhoon Soudelor kills 28 in China and Taiwan</td>\n",
       "    </tr>\n",
       "  </tbody>\n",
       "</table>\n",
       "</div>"
      ],
      "text/plain": [
       "   id keyword location                                               text\n",
       "0   0     NaN      NaN                 Just happened a terrible car crash\n",
       "1   2     NaN      NaN  Heard about #earthquake is different cities, s...\n",
       "2   3     NaN      NaN  there is a forest fire at spot pond, geese are...\n",
       "3   9     NaN      NaN           Apocalypse lighting. #Spokane #wildfires\n",
       "4  11     NaN      NaN      Typhoon Soudelor kills 28 in China and Taiwan"
      ]
     },
     "execution_count": 68,
     "metadata": {
      "tags": []
     },
     "output_type": "execute_result"
    }
   ],
   "source": [
    "# Load test dataset\n",
    "data_test = pd.read_csv('https://raw.githubusercontent.com/Matheus-Schmitz/Disaster_Occurance_Twitter/master/dataset_test.csv')\n",
    "data_test.head()"
   ]
  },
  {
   "cell_type": "code",
   "execution_count": 69,
   "metadata": {
    "colab": {},
    "colab_type": "code",
    "id": "uvodgabVw6dw"
   },
   "outputs": [],
   "source": [
    "# Normalize and tokenize text\n",
    "data_test['tok_norm_text'] = [preprocess_text(tokenizer, text) for text in data_test['text']]"
   ]
  },
  {
   "cell_type": "code",
   "execution_count": 70,
   "metadata": {
    "colab": {},
    "colab_type": "code",
    "id": "Qsxb8PITxlbO"
   },
   "outputs": [],
   "source": [
    "# Preprocess keywords\n",
    "data_test['keyword'] = data_test['keyword'].apply(preprocess_keyword)"
   ]
  },
  {
   "cell_type": "code",
   "execution_count": 71,
   "metadata": {
    "colab": {},
    "colab_type": "code",
    "id": "yePCgvB2xscU"
   },
   "outputs": [],
   "source": [
    "# Extract features\n",
    "data_test['num_all_caps'] = data_test['text'].apply(count_all_caps)\n",
    "data_test['num_caps'] = data_test['text'].apply(count_capitalized)\n",
    "data_test['num_words'] = data_test['text'].apply(count_words)"
   ]
  },
  {
   "cell_type": "code",
   "execution_count": 72,
   "metadata": {
    "colab": {},
    "colab_type": "code",
    "id": "Wx_aOmY0yRdt"
   },
   "outputs": [],
   "source": [
    "# Scale\n",
    "data_test[columns_to_scale] = scaler.transform(data_test[columns_to_scale])"
   ]
  },
  {
   "cell_type": "code",
   "execution_count": 73,
   "metadata": {
    "colab": {},
    "colab_type": "code",
    "id": "QUiD6K-MykrF"
   },
   "outputs": [],
   "source": [
    "# Sentiment Analyser\n",
    "sentiment_analyze_df(data_test, 'tok_norm_text')"
   ]
  },
  {
   "cell_type": "code",
   "execution_count": 74,
   "metadata": {
    "colab": {},
    "colab_type": "code",
    "id": "Zz8-pQtAyyXt"
   },
   "outputs": [],
   "source": [
    "# Text embedding\n",
    "data_test['text_embedding'] = [embedding_preprocess(embedding_model = model_glove_twitter,\n",
    "                                                   use_norm = True,\n",
    "                                                   seq_len = sequence_max_length,\n",
    "                                                   tokenized_text = text)\n",
    "                              for text in data_test['tok_norm_text']]"
   ]
  },
  {
   "cell_type": "code",
   "execution_count": 75,
   "metadata": {
    "colab": {},
    "colab_type": "code",
    "id": "TYcoqeZ-zNtg"
   },
   "outputs": [],
   "source": [
    "# Keyword embedding\n",
    "data_test['keyword_embedding'] = [keyword_to_avg_vector(embedding_model = model_glove_twitter,\n",
    "                                                        use_norm = True,\n",
    "                                                        tokenized_keyword = keyword)\n",
    "                                  for keyword in data_test['keyword']]"
   ]
  },
  {
   "cell_type": "code",
   "execution_count": 76,
   "metadata": {
    "colab": {
     "base_uri": "https://localhost:8080/",
     "height": 289
    },
    "colab_type": "code",
    "id": "jsljPgowzknJ",
    "outputId": "78e77b7a-5d69-462f-b5e9-b4da7ef9b147"
   },
   "outputs": [
    {
     "data": {
      "text/html": [
       "<div>\n",
       "<style scoped>\n",
       "    .dataframe tbody tr th:only-of-type {\n",
       "        vertical-align: middle;\n",
       "    }\n",
       "\n",
       "    .dataframe tbody tr th {\n",
       "        vertical-align: top;\n",
       "    }\n",
       "\n",
       "    .dataframe thead th {\n",
       "        text-align: right;\n",
       "    }\n",
       "</style>\n",
       "<table border=\"1\" class=\"dataframe\">\n",
       "  <thead>\n",
       "    <tr style=\"text-align: right;\">\n",
       "      <th></th>\n",
       "      <th>id</th>\n",
       "      <th>keyword</th>\n",
       "      <th>location</th>\n",
       "      <th>text</th>\n",
       "      <th>tok_norm_text</th>\n",
       "      <th>num_all_caps</th>\n",
       "      <th>num_caps</th>\n",
       "      <th>num_words</th>\n",
       "      <th>sent_neg</th>\n",
       "      <th>sent_neu</th>\n",
       "      <th>sent_pos</th>\n",
       "      <th>sent_compound</th>\n",
       "      <th>text_embedding</th>\n",
       "      <th>keyword_embedding</th>\n",
       "    </tr>\n",
       "  </thead>\n",
       "  <tbody>\n",
       "    <tr>\n",
       "      <th>0</th>\n",
       "      <td>0</td>\n",
       "      <td>None</td>\n",
       "      <td>NaN</td>\n",
       "      <td>Just happened a terrible car crash</td>\n",
       "      <td>[just, happened, a, terrible, car, crash]</td>\n",
       "      <td>-1.00</td>\n",
       "      <td>-0.913043</td>\n",
       "      <td>-0.666667</td>\n",
       "      <td>0.659</td>\n",
       "      <td>0.341</td>\n",
       "      <td>0.000</td>\n",
       "      <td>-0.7003</td>\n",
       "      <td>[[0.0, 0.0, 0.0, 0.0, 0.0, 0.0, 0.0, 0.0, 0.0,...</td>\n",
       "      <td>[[0.0, 0.0, 0.0, 0.0, 0.0, 0.0, 0.0, 0.0, 0.0,...</td>\n",
       "    </tr>\n",
       "    <tr>\n",
       "      <th>1</th>\n",
       "      <td>2</td>\n",
       "      <td>None</td>\n",
       "      <td>NaN</td>\n",
       "      <td>Heard about #earthquake is different cities, s...</td>\n",
       "      <td>[heard, about, #, earthquake, is, different, c...</td>\n",
       "      <td>-1.00</td>\n",
       "      <td>-0.913043</td>\n",
       "      <td>-0.466667</td>\n",
       "      <td>0.000</td>\n",
       "      <td>0.734</td>\n",
       "      <td>0.266</td>\n",
       "      <td>0.4404</td>\n",
       "      <td>[[0.0, 0.0, 0.0, 0.0, 0.0, 0.0, 0.0, 0.0, 0.0,...</td>\n",
       "      <td>[[0.0, 0.0, 0.0, 0.0, 0.0, 0.0, 0.0, 0.0, 0.0,...</td>\n",
       "    </tr>\n",
       "    <tr>\n",
       "      <th>2</th>\n",
       "      <td>3</td>\n",
       "      <td>None</td>\n",
       "      <td>NaN</td>\n",
       "      <td>there is a forest fire at spot pond, geese are...</td>\n",
       "      <td>[there, is, a, forest, fire, at, spot, pond, ,...</td>\n",
       "      <td>-0.92</td>\n",
       "      <td>-0.913043</td>\n",
       "      <td>0.200000</td>\n",
       "      <td>0.251</td>\n",
       "      <td>0.749</td>\n",
       "      <td>0.000</td>\n",
       "      <td>-0.6159</td>\n",
       "      <td>[[0.0, 0.0, 0.0, 0.0, 0.0, 0.0, 0.0, 0.0, 0.0,...</td>\n",
       "      <td>[[0.0, 0.0, 0.0, 0.0, 0.0, 0.0, 0.0, 0.0, 0.0,...</td>\n",
       "    </tr>\n",
       "    <tr>\n",
       "      <th>3</th>\n",
       "      <td>9</td>\n",
       "      <td>None</td>\n",
       "      <td>NaN</td>\n",
       "      <td>Apocalypse lighting. #Spokane #wildfires</td>\n",
       "      <td>[apocalypse, lighting, ., #, spokane, #, wildf...</td>\n",
       "      <td>-1.00</td>\n",
       "      <td>-0.826087</td>\n",
       "      <td>-0.800000</td>\n",
       "      <td>0.000</td>\n",
       "      <td>1.000</td>\n",
       "      <td>0.000</td>\n",
       "      <td>0.0000</td>\n",
       "      <td>[[0.0, 0.0, 0.0, 0.0, 0.0, 0.0, 0.0, 0.0, 0.0,...</td>\n",
       "      <td>[[0.0, 0.0, 0.0, 0.0, 0.0, 0.0, 0.0, 0.0, 0.0,...</td>\n",
       "    </tr>\n",
       "    <tr>\n",
       "      <th>4</th>\n",
       "      <td>11</td>\n",
       "      <td>None</td>\n",
       "      <td>NaN</td>\n",
       "      <td>Typhoon Soudelor kills 28 in China and Taiwan</td>\n",
       "      <td>[typhoon, soudelor, kills, &lt;number&gt;, in, china...</td>\n",
       "      <td>-1.00</td>\n",
       "      <td>-0.652174</td>\n",
       "      <td>-0.533333</td>\n",
       "      <td>0.333</td>\n",
       "      <td>0.667</td>\n",
       "      <td>0.000</td>\n",
       "      <td>-0.5423</td>\n",
       "      <td>[[0.0, 0.0, 0.0, 0.0, 0.0, 0.0, 0.0, 0.0, 0.0,...</td>\n",
       "      <td>[[0.0, 0.0, 0.0, 0.0, 0.0, 0.0, 0.0, 0.0, 0.0,...</td>\n",
       "    </tr>\n",
       "  </tbody>\n",
       "</table>\n",
       "</div>"
      ],
      "text/plain": [
       "   id  ...                                  keyword_embedding\n",
       "0   0  ...  [[0.0, 0.0, 0.0, 0.0, 0.0, 0.0, 0.0, 0.0, 0.0,...\n",
       "1   2  ...  [[0.0, 0.0, 0.0, 0.0, 0.0, 0.0, 0.0, 0.0, 0.0,...\n",
       "2   3  ...  [[0.0, 0.0, 0.0, 0.0, 0.0, 0.0, 0.0, 0.0, 0.0,...\n",
       "3   9  ...  [[0.0, 0.0, 0.0, 0.0, 0.0, 0.0, 0.0, 0.0, 0.0,...\n",
       "4  11  ...  [[0.0, 0.0, 0.0, 0.0, 0.0, 0.0, 0.0, 0.0, 0.0,...\n",
       "\n",
       "[5 rows x 14 columns]"
      ]
     },
     "execution_count": 76,
     "metadata": {
      "tags": []
     },
     "output_type": "execute_result"
    }
   ],
   "source": [
    "# Visualize\n",
    "data_test.head()"
   ]
  },
  {
   "cell_type": "code",
   "execution_count": 77,
   "metadata": {
    "colab": {},
    "colab_type": "code",
    "id": "ZrJyAVyYznfF"
   },
   "outputs": [],
   "source": [
    "# Create a final embedding representation of all features selected for training\n",
    "test_embedding_matrix = concatenate_embeddings(df = data_test,\n",
    "                                                embedding_model = model_glove_twitter,\n",
    "                                                seq_len = sequence_max_length,\n",
    "                                                sequence_embedding_col = 'text_embedding',\n",
    "                                                static_embedding_cols = ['keyword_embedding'],\n",
    "                                                static_singles_cols = ['num_all_caps',\n",
    "                                                                        'num_caps',\n",
    "                                                                        'num_words',\n",
    "                                                                        'sent_neg',\n",
    "                                                                        'sent_neu',\n",
    "                                                                        'sent_pos',\n",
    "                                                                        'sent_compound'])"
   ]
  },
  {
   "cell_type": "code",
   "execution_count": 78,
   "metadata": {
    "colab": {},
    "colab_type": "code",
    "id": "gIGChpd0z4pv"
   },
   "outputs": [],
   "source": [
    "# Create object with the attributes\n",
    "X_test = torch.from_numpy(test_embedding_matrix).float().to(device)"
   ]
  },
  {
   "cell_type": "code",
   "execution_count": 79,
   "metadata": {
    "colab": {},
    "colab_type": "code",
    "id": "-iB82gNPz-2L"
   },
   "outputs": [],
   "source": [
    "# Predictions\n",
    "preds = model.predict(X_test)"
   ]
  },
  {
   "cell_type": "code",
   "execution_count": 80,
   "metadata": {
    "colab": {},
    "colab_type": "code",
    "id": "mYa3GhRF0LHp"
   },
   "outputs": [],
   "source": [
    "# Concatenate predictions and ids for each test register in a dataframe\n",
    "final_preds = preds.cpu().numpy().reshape(-1,1)\n",
    "ids = data_test['id'].values.reshape(-1,1)\n",
    "data = np.hstack((ids, final_preds))"
   ]
  },
  {
   "cell_type": "code",
   "execution_count": 81,
   "metadata": {
    "colab": {},
    "colab_type": "code",
    "id": "PIdKVQIm0fdR"
   },
   "outputs": [],
   "source": [
    "# Dataframe\n",
    "predictions = pd.DataFrame(data = data, columns = ['id', 'target'])"
   ]
  },
  {
   "cell_type": "code",
   "execution_count": 82,
   "metadata": {
    "colab": {
     "base_uri": "https://localhost:8080/",
     "height": 204
    },
    "colab_type": "code",
    "id": "Dq00-BTL0nxb",
    "outputId": "6672ee77-60f5-4cfb-e997-1c0bb1780d02"
   },
   "outputs": [
    {
     "data": {
      "text/html": [
       "<div>\n",
       "<style scoped>\n",
       "    .dataframe tbody tr th:only-of-type {\n",
       "        vertical-align: middle;\n",
       "    }\n",
       "\n",
       "    .dataframe tbody tr th {\n",
       "        vertical-align: top;\n",
       "    }\n",
       "\n",
       "    .dataframe thead th {\n",
       "        text-align: right;\n",
       "    }\n",
       "</style>\n",
       "<table border=\"1\" class=\"dataframe\">\n",
       "  <thead>\n",
       "    <tr style=\"text-align: right;\">\n",
       "      <th></th>\n",
       "      <th>id</th>\n",
       "      <th>target</th>\n",
       "    </tr>\n",
       "  </thead>\n",
       "  <tbody>\n",
       "    <tr>\n",
       "      <th>0</th>\n",
       "      <td>0</td>\n",
       "      <td>1</td>\n",
       "    </tr>\n",
       "    <tr>\n",
       "      <th>1</th>\n",
       "      <td>2</td>\n",
       "      <td>1</td>\n",
       "    </tr>\n",
       "    <tr>\n",
       "      <th>2</th>\n",
       "      <td>3</td>\n",
       "      <td>1</td>\n",
       "    </tr>\n",
       "    <tr>\n",
       "      <th>3</th>\n",
       "      <td>9</td>\n",
       "      <td>1</td>\n",
       "    </tr>\n",
       "    <tr>\n",
       "      <th>4</th>\n",
       "      <td>11</td>\n",
       "      <td>1</td>\n",
       "    </tr>\n",
       "  </tbody>\n",
       "</table>\n",
       "</div>"
      ],
      "text/plain": [
       "   id  target\n",
       "0   0       1\n",
       "1   2       1\n",
       "2   3       1\n",
       "3   9       1\n",
       "4  11       1"
      ]
     },
     "execution_count": 82,
     "metadata": {
      "tags": []
     },
     "output_type": "execute_result"
    }
   ],
   "source": [
    "# Visualize\n",
    "predictions.head()"
   ]
  },
  {
   "cell_type": "markdown",
   "metadata": {
    "colab_type": "text",
    "id": "RlmhyjCZ0unX"
   },
   "source": [
    "# End"
   ]
  }
 ],
 "metadata": {
  "accelerator": "GPU",
  "colab": {
   "collapsed_sections": [
    "LvEEt0bsbnVw",
    "yXDUZU5hdPMD",
    "yYwaARynv31e",
    "yKuc7a2M9NvM",
    "eIQo9amLfcZS",
    "hppOQE70jKgh",
    "rkjWwNubjMoO",
    "R5Ud1FSlmk9E",
    "86aQOkrInL63",
    "pIEO6inbufos",
    "Ooc4gT6-6p_v",
    "f-cWeyrr8WfL",
    "HZPSHAtL-qmp",
    "v2FGa9CGCphP",
    "MGDA1gmQN61N",
    "96qhhzvON9BG",
    "UDgmk0PJOCGg",
    "fjtGnUcNH2Db",
    "vB3GZVs5thWz",
    "_quUaN8wwLAQ",
    "RlmhyjCZ0unX"
   ],
   "name": "Disaster_Occurance_Twitter.ipynb",
   "provenance": []
  },
  "kernelspec": {
   "display_name": "Python 3",
   "language": "python",
   "name": "python3"
  },
  "language_info": {
   "codemirror_mode": {
    "name": "ipython",
    "version": 3
   },
   "file_extension": ".py",
   "mimetype": "text/x-python",
   "name": "python",
   "nbconvert_exporter": "python",
   "pygments_lexer": "ipython3",
   "version": "3.7.7"
  }
 },
 "nbformat": 4,
 "nbformat_minor": 1
}
